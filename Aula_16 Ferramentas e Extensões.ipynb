{
 "cells": [
  {
   "cell_type": "code",
   "execution_count": 1,
   "metadata": {},
   "outputs": [
    {
     "name": "stdout",
     "output_type": "stream",
     "text": [
      "^C\n",
      "Note: you may need to restart the kernel to use updated packages.\n"
     ]
    },
    {
     "name": "stderr",
     "output_type": "stream",
     "text": [
      "  WARNING: The scripts pip.exe, pip3.12.exe and pip3.exe are installed in 'c:\\Users\\natha\\AppData\\Local\\Programs\\Python\\Python312\\Scripts' which is not on PATH.\n",
      "  Consider adding this directory to PATH or, if you prefer to suppress this warning, use --no-warn-script-location.\n"
     ]
    },
    {
     "name": "stdout",
     "output_type": "stream",
     "text": [
      "Requirement already satisfied: pip in c:\\users\\natha\\appdata\\local\\programs\\python\\python312\\lib\\site-packages (23.2.1)\n",
      "Collecting pip\n",
      "  Obtaining dependency information for pip from https://files.pythonhosted.org/packages/8a/6a/19e9fe04fca059ccf770861c7d5721ab4c2aebc539889e97c7977528a53b/pip-24.0-py3-none-any.whl.metadata\n",
      "  Downloading pip-24.0-py3-none-any.whl.metadata (3.6 kB)\n",
      "Downloading pip-24.0-py3-none-any.whl (2.1 MB)\n",
      "   ---------------------------------------- 0.0/2.1 MB ? eta -:--:--\n",
      "   ------ --------------------------------- 0.4/2.1 MB 11.6 MB/s eta 0:00:01\n",
      "   -------------- ------------------------- 0.8/2.1 MB 10.0 MB/s eta 0:00:01\n",
      "   ------------------------- -------------- 1.3/2.1 MB 8.4 MB/s eta 0:00:01\n",
      "   --------------------------------- ------ 1.8/2.1 MB 7.6 MB/s eta 0:00:01\n",
      "   ---------------------------------------  2.1/2.1 MB 7.1 MB/s eta 0:00:01\n",
      "   ---------------------------------------  2.1/2.1 MB 7.1 MB/s eta 0:00:01\n",
      "   ---------------------------------------  2.1/2.1 MB 7.1 MB/s eta 0:00:01\n",
      "   ---------------------------------------  2.1/2.1 MB 7.1 MB/s eta 0:00:01\n",
      "   ---------------------------------------  2.1/2.1 MB 7.1 MB/s eta 0:00:01\n",
      "   ---------------------------------------  2.1/2.1 MB 7.1 MB/s eta 0:00:01\n",
      "   ---------------------------------------  2.1/2.1 MB 7.1 MB/s eta 0:00:01\n",
      "   ---------------------------------------  2.1/2.1 MB 7.1 MB/s eta 0:00:01\n",
      "   ---------------------------------------  2.1/2.1 MB 7.1 MB/s eta 0:00:01\n",
      "   ---------------------------------------  2.1/2.1 MB 7.1 MB/s eta 0:00:01\n",
      "   ---------------------------------------  2.1/2.1 MB 7.1 MB/s eta 0:00:01\n",
      "   ---------------------------------------  2.1/2.1 MB 7.1 MB/s eta 0:00:01\n",
      "   ---------------------------------------  2.1/2.1 MB 7.1 MB/s eta 0:00:01\n",
      "   ---------------------------------------  2.1/2.1 MB 7.1 MB/s eta 0:00:01\n",
      "   ---------------------------------------  2.1/2.1 MB 7.1 MB/s eta 0:00:01\n",
      "   ---------------------------------------- 2.1/2.1 MB 1.9 MB/s eta 0:00:00\n",
      "Installing collected packages: pip\n",
      "  Attempting uninstall: pip\n",
      "    Found existing installation: pip 23.2.1\n",
      "    Uninstalling pip-23.2.1:\n",
      "      Successfully uninstalled pip-23.2.1\n",
      "Successfully installed pip-24.0\n"
     ]
    }
   ],
   "source": [
    "Empty. Aula prática sobre ambientes virtuais."
   ]
  },
  {
   "cell_type": "code",
   "execution_count": null,
   "metadata": {},
   "outputs": [],
   "source": []
  }
 ],
 "metadata": {
  "kernelspec": {
   "display_name": "Python 3",
   "language": "python",
   "name": "python3"
  },
  "language_info": {
   "codemirror_mode": {
    "name": "ipython",
    "version": 3
   },
   "file_extension": ".py",
   "mimetype": "text/x-python",
   "name": "python",
   "nbconvert_exporter": "python",
   "pygments_lexer": "ipython3",
   "version": "3.12.1"
  }
 },
 "nbformat": 4,
 "nbformat_minor": 2
}
