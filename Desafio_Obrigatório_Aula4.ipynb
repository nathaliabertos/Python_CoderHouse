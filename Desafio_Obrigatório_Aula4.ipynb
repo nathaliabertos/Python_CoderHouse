{
 "cells": [
  {
   "cell_type": "code",
   "execution_count": 10,
   "metadata": {},
   "outputs": [],
   "source": [
    "from plyer import notification\n",
    "from datetime import datetime\n",
    "\n",
    "\n",
    "def alerta(nível, base, etapa):\n",
    "    now = str(datetime.now())\n",
    " \n",
    "    if nível == 1:\n",
    "        title = \"Alerta baixo\"\n",
    "        message = f'Falha no carregamento da base {base} na etapa {etapa}.\\n{now}'\n",
    "\n",
    "    elif nível == 2:\n",
    "        title = \"Alerta médio\"\n",
    "        message = f'Falha no carregamento da base {base} na etapa {etapa}.\\n{now}'\n",
    "\n",
    "    elif nível == 3:\n",
    "        title = \"Alerta alto\"\n",
    "        message = f'Falha no carregamento da base {base} na etapa {etapa}.\\n{now}'\n",
    "        \n",
    "    notification.notify(title = title, message = message, app_name = 'alerta', timeout=10)"
   ]
  },
  {
   "cell_type": "code",
   "execution_count": 11,
   "metadata": {},
   "outputs": [],
   "source": [
    "alerta(nível = 2,\n",
    "        base = \"CLIENTES\",\n",
    "        etapa = \"EXTRACAO\")"
   ]
  }
 ],
 "metadata": {
  "kernelspec": {
   "display_name": "Python 3",
   "language": "python",
   "name": "python3"
  },
  "language_info": {
   "codemirror_mode": {
    "name": "ipython",
    "version": 3
   },
   "file_extension": ".py",
   "mimetype": "text/x-python",
   "name": "python",
   "nbconvert_exporter": "python",
   "pygments_lexer": "ipython3",
   "version": "3.12.1"
  }
 },
 "nbformat": 4,
 "nbformat_minor": 2
}
