{
 "cells": [
  {
   "cell_type": "code",
   "execution_count": 9,
   "metadata": {},
   "outputs": [],
   "source": [
    "var = (input('Escreva sua idade'))\n"
   ]
  },
  {
   "cell_type": "code",
   "execution_count": 7,
   "metadata": {},
   "outputs": [
    {
     "name": "stdout",
     "output_type": "stream",
     "text": [
      "Montanha Russa liberada\n"
     ]
    }
   ],
   "source": [
    "idade = 15\n",
    "altura = 1.6\n",
    "dia = 'sabado'\n",
    "\n",
    "if (idade > 12) and \\\n",
    "(altura >= 1.5) and \\\n",
    "(dia == 'sabado') or \\\n",
    "(dia == 'domingo'): \n",
    "    \n",
    "    print('Montanha Russa liberada')"
   ]
  },
  {
   "cell_type": "code",
   "execution_count": 1,
   "metadata": {},
   "outputs": [
    {
     "name": "stdout",
     "output_type": "stream",
     "text": [
      "media anual 70\n",
      "Porcentagem da frequencia = 80.0 %\n",
      "Status Aprovado\n"
     ]
    }
   ],
   "source": [
    "media = int(input(\"Media do aluno\"))\n",
    "faltas = int(input(\"faltas do aluno\"))\n",
    "aulas_totais = 50\n",
    "\n",
    "frequencia_percentual = 1- faltas/aulas_totais\n",
    "print(\"media anual\", media )\n",
    "print(f\"Porcentagem da frequencia = {frequencia_percentual*100} %\")\n",
    "\n",
    "if media >= 60 and frequencia_percentual >= 0.75:\n",
    "  print(\"Status Aprovado\")\n",
    "else: \n",
    "  print(\"Status Reprovado\")"
   ]
  },
  {
   "cell_type": "code",
   "execution_count": null,
   "metadata": {},
   "outputs": [],
   "source": [
    "x = 5\n",
    "y = 3\n",
    "if x > 2:\n",
    "    if y < 3:\n",
    "        x = 2\n",
    "        elif x == 6:\n",
    "        x = 3\n",
    "        else:\n",
    "x = 1\n",
    "else:\n",
    "x = 4\n",
    "print(x)"
   ]
  },
  {
   "cell_type": "code",
   "execution_count": 37,
   "metadata": {},
   "outputs": [
    {
     "name": "stdout",
     "output_type": "stream",
     "text": [
      "9\n"
     ]
    }
   ],
   "source": [
    "x = 5\n",
    "y = 3\n",
    "if x > 2*y:\n",
    "    x = 3\n",
    "else:\n",
    "    x = 2\n",
    "    x = x*3\n",
    "if x/2 < y+2:\n",
    "    x = x + y\n",
    "print(x)"
   ]
  },
  {
   "cell_type": "code",
   "execution_count": null,
   "metadata": {},
   "outputs": [],
   "source": [
    "soma = 1\n",
    "while soma < 12:\n",
    "    soma = soma + 2\n",
    "    print(soma)"
   ]
  },
  {
   "cell_type": "code",
   "execution_count": null,
   "metadata": {},
   "outputs": [],
   "source": [
    "for i in [3,5,7,9,13]:\n",
    "    print(i)"
   ]
  },
  {
   "cell_type": "code",
   "execution_count": 46,
   "metadata": {},
   "outputs": [
    {
     "name": "stdout",
     "output_type": "stream",
     "text": [
      "[1, 4, 7, 10, 13, 16, 19]\n"
     ]
    }
   ],
   "source": [
    "lista = []\n",
    "iten = 0\n",
    "for iten in range (1,20,3):\n",
    "    lista.append(iten)\n",
    "print(lista)\n",
    "    "
   ]
  },
  {
   "cell_type": "code",
   "execution_count": 48,
   "metadata": {},
   "outputs": [
    {
     "data": {
      "text/plain": [
       "[0, 1, 2, 3, 4, 5, 6, 7, 8, 9]"
      ]
     },
     "execution_count": 48,
     "metadata": {},
     "output_type": "execute_result"
    }
   ],
   "source": [
    "lista2 = [ i for i in range(10)]\n",
    "lista2"
   ]
  },
  {
   "cell_type": "code",
   "execution_count": null,
   "metadata": {},
   "outputs": [],
   "source": [
    "for i in lista:\n",
    "    print(i)"
   ]
  },
  {
   "cell_type": "code",
   "execution_count": 2,
   "metadata": {},
   "outputs": [
    {
     "name": "stdout",
     "output_type": "stream",
     "text": [
      "impar\n"
     ]
    }
   ],
   "source": [
    "numero = int(input('Digite um numero: '))\n",
    "if numero%2 == 0:\n",
    "    print(\"Par\")\n",
    "else:\n",
    "    print(\"impar\")"
   ]
  },
  {
   "cell_type": "code",
   "execution_count": null,
   "metadata": {},
   "outputs": [],
   "source": []
  }
 ],
 "metadata": {
  "kernelspec": {
   "display_name": "Python 3",
   "language": "python",
   "name": "python3"
  },
  "language_info": {
   "codemirror_mode": {
    "name": "ipython",
    "version": 3
   },
   "file_extension": ".py",
   "mimetype": "text/x-python",
   "name": "python",
   "nbconvert_exporter": "python",
   "pygments_lexer": "ipython3",
   "version": "3.12.1"
  }
 },
 "nbformat": 4,
 "nbformat_minor": 2
}
