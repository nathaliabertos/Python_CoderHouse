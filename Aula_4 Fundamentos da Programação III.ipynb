{
 "cells": [
  {
   "cell_type": "code",
   "execution_count": null,
   "metadata": {},
   "outputs": [],
   "source": []
  },
  {
   "cell_type": "code",
   "execution_count": 28,
   "metadata": {},
   "outputs": [
    {
     "data": {
      "text/plain": [
       "20"
      ]
     },
     "execution_count": 28,
     "metadata": {},
     "output_type": "execute_result"
    }
   ],
   "source": [
    "def mul(a,b):\n",
    "    x = a*b\n",
    "    return x\n",
    "mul(4,5)"
   ]
  },
  {
   "cell_type": "code",
   "execution_count": 29,
   "metadata": {},
   "outputs": [
    {
     "name": "stdout",
     "output_type": "stream",
     "text": [
      "ola!!\n",
      "ola!!\n"
     ]
    }
   ],
   "source": [
    "def diga_ola():\n",
    "    print(\"ola!!\")\n",
    "diga_ola()\n",
    "diga_ola()"
   ]
  },
  {
   "cell_type": "markdown",
   "metadata": {},
   "source": [
    "### Titulo 2"
   ]
  },
  {
   "cell_type": "markdown",
   "metadata": {},
   "source": []
  },
  {
   "cell_type": "markdown",
   "metadata": {},
   "source": [
    "## Titulo 2"
   ]
  },
  {
   "cell_type": "code",
   "execution_count": 30,
   "metadata": {},
   "outputs": [],
   "source": [
    "def imc(peso, altura):\n",
    "    imc = peso/altura**2\n",
    "    return(imc, altura)"
   ]
  },
  {
   "cell_type": "code",
   "execution_count": 31,
   "metadata": {},
   "outputs": [
    {
     "name": "stdout",
     "output_type": "stream",
     "text": [
      "(21.006841165972638, 1.64)\n"
     ]
    }
   ],
   "source": [
    "imc_raiana = imc(56.5, 1.64)\n",
    "print(imc_raiana)"
   ]
  },
  {
   "cell_type": "code",
   "execution_count": 32,
   "metadata": {},
   "outputs": [
    {
     "name": "stdout",
     "output_type": "stream",
     "text": [
      "print A: 200\n",
      "print B 200\n",
      "print C: 10\n",
      "print D: 3\n",
      "print E: 200\n"
     ]
    }
   ],
   "source": [
    "x = 200\n",
    "print(\"print A:\",x)\n",
    "\n",
    "def mostraX(x):\n",
    "    print(\"print C:\", x)\n",
    "    x = 3\n",
    "    print(\"print D:\", x)\n",
    "\n",
    "print(\"print B\", x)\n",
    "mostraX(10)\n",
    "print(\"print E:\", x)"
   ]
  },
  {
   "cell_type": "code",
   "execution_count": 33,
   "metadata": {},
   "outputs": [
    {
     "name": "stdout",
     "output_type": "stream",
     "text": [
      "imposto de: 750.0\n",
      "imposto de: 500.0\n",
      "imposto de: 500.0\n"
     ]
    }
   ],
   "source": [
    "def calcular_imposto(salario, taxa=0.1):\n",
    "    imposto = salario * taxa\n",
    "    print(\"imposto de:\", imposto)\n",
    "\n",
    "calcular_imposto(5000, 0.15)\n",
    "calcular_imposto(5000, 0.1)\n",
    "calcular_imposto(5000)"
   ]
  },
  {
   "cell_type": "code",
   "execution_count": 34,
   "metadata": {},
   "outputs": [
    {
     "data": {
      "text/plain": [
       "27"
      ]
     },
     "execution_count": 34,
     "metadata": {},
     "output_type": "execute_result"
    }
   ],
   "source": [
    "cubo = lambda num: num **3\n",
    "cubo(3)"
   ]
  },
  {
   "cell_type": "code",
   "execution_count": 35,
   "metadata": {},
   "outputs": [
    {
     "data": {
      "text/plain": [
       "15"
      ]
     },
     "execution_count": 35,
     "metadata": {},
     "output_type": "execute_result"
    }
   ],
   "source": [
    "multiplica = lambda x,y: x*y\n",
    "multiplica(3,5)"
   ]
  },
  {
   "cell_type": "code",
   "execution_count": 25,
   "metadata": {},
   "outputs": [
    {
     "name": "stdout",
     "output_type": "stream",
     "text": [
      "[6, 4, 6]\n"
     ]
    }
   ],
   "source": [
    "frutas = [\"Banana\", \"Pera\", \"Tomate\"]\n",
    "tamanhos = map(len, frutas)\n",
    "print(list(tamanhos))"
   ]
  },
  {
   "cell_type": "code",
   "execution_count": 26,
   "metadata": {},
   "outputs": [
    {
     "data": {
      "text/plain": [
       "[0, 3, 5, 6, 9, 10, 12, 15, 18]"
      ]
     },
     "execution_count": 26,
     "metadata": {},
     "output_type": "execute_result"
    }
   ],
   "source": [
    "multiplos_3_e_5 = [i for i in range(20) if (i%3==0 or i%5==0)]\n",
    "multiplos_3_e_5"
   ]
  },
  {
   "cell_type": "code",
   "execution_count": 27,
   "metadata": {},
   "outputs": [
    {
     "data": {
      "text/plain": [
       "[0, 2, 4, 6, 8]"
      ]
     },
     "execution_count": 27,
     "metadata": {},
     "output_type": "execute_result"
    }
   ],
   "source": [
    "sequencia = []\n",
    "for i in range(len(multiplos_3_e_5)):\n",
    "    if i%2==0:\n",
    "        sequencia.append(i)\n",
    "sequencia"
   ]
  },
  {
   "cell_type": "code",
   "execution_count": 38,
   "metadata": {},
   "outputs": [
    {
     "name": "stdout",
     "output_type": "stream",
     "text": [
      "1995-06-12\n"
     ]
    }
   ],
   "source": [
    "from datetime import date\n",
    "aniversario = date(1995, 6, 12)\n"
   ]
  },
  {
   "cell_type": "code",
   "execution_count": null,
   "metadata": {},
   "outputs": [],
   "source": []
  }
 ],
 "metadata": {
  "kernelspec": {
   "display_name": "Python 3",
   "language": "python",
   "name": "python3"
  },
  "language_info": {
   "codemirror_mode": {
    "name": "ipython",
    "version": 3
   },
   "file_extension": ".py",
   "mimetype": "text/x-python",
   "name": "python",
   "nbconvert_exporter": "python",
   "pygments_lexer": "ipython3",
   "version": "3.12.1"
  }
 },
 "nbformat": 4,
 "nbformat_minor": 2
}
