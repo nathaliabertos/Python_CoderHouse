{
 "cells": [
  {
   "cell_type": "code",
   "execution_count": 2,
   "metadata": {},
   "outputs": [
    {
     "name": "stdout",
     "output_type": "stream",
     "text": [
      "Seu índice de massa corporal é 22.031725684986377\n"
     ]
    }
   ],
   "source": [
    "peso = int(input('Digite seu peso'))\n",
    "altura = float(input('Digite sua altura'))\n",
    "IMC = peso/(altura*altura)\n",
    "print('Seu índice de massa corporal é', IMC)"
   ]
  },
  {
   "cell_type": "code",
   "execution_count": 15,
   "metadata": {},
   "outputs": [
    {
     "name": "stdout",
     "output_type": "stream",
     "text": [
      "[]\n",
      "[20, 12, 14, 16, 18]\n"
     ]
    }
   ],
   "source": [
    "lista = []\n",
    "print(lista)\n",
    "\n",
    "lista.append(int(input('Digite um numero inteiro')))\n",
    "lista.append(int(input('Digite um numero inteiro')))\n",
    "lista.append(int(input('Digite um numero inteiro')))\n",
    "lista.append(int(input('Digite um numero inteiro')))\n",
    "lista.append(int(input('Digite um numero inteiro')))\n",
    "\n",
    "print(lista)"
   ]
  },
  {
   "cell_type": "code",
   "execution_count": 17,
   "metadata": {},
   "outputs": [
    {
     "name": "stdout",
     "output_type": "stream",
     "text": [
      "<class 'str'>\n",
      "['1', '2', '3', '4']\n"
     ]
    }
   ],
   "source": [
    "lista_de_nomes = '1,2,3,4'\n",
    "print(type(lista_de_nomes))\n",
    "\n",
    "lista = lista_de_nomes.split(',')\n",
    "print(lista)"
   ]
  },
  {
   "cell_type": "markdown",
   "metadata": {},
   "source": [
    "Olá, Nathalia!\n",
    "\n",
    "\n",
    "Tudo bom?\n",
    "\n",
    "\n",
    "Neste desafio, o objetivo era desenvolver os programas para os três problemas apresentados. Recebi o seu desafio, li suas respostas e vou compartilhar com você os pontos positivos e os pontos de desenvolvimento nas próximas linhas, ok? Antes de mais nada, gostaria de reforçar que um dos objetivos desse feedback é auxiliar você na sua jornada aqui na Coderhouse, contribuindo para o seu desenvolvimento no curso e nessa área de atuação e caso você tenha dúvidas, pode me enviar uma mensagem aqui no chat da plataforma. Bora lá? \n",
    "\n",
    "\n",
    "\n",
    "Orientações:\n",
    " - Minha sugestão é que releia os exercícios do desafio, tente pensar um pouco mais sobre o que foi solicitado em cada um, e tente desenvolve-los novamente. Se necessário reveja os slides da aula.\n",
    " - Nos 3 exercícios foi solicitado que o usuário (uma pessoa que não teria acesso ao seu código, somente ao que está sendo pedido, ex: inserir peso e altura) interagisse, inserindo dados. Para isso devemos utilizar a função \"input\" conforme vimos na aula.\n",
    " - O primeiro exercício está quase completo, só faltando o input do usuário\n",
    " - No segundo exercício também precisamos do input do usuário, mas antes do input, é necessário criar uma lista vazia (o código para isso é lista = []). A insercão precisa ser de número inteiros (reveja os slides de variáveis 8 a 11)\n",
    " - No útimo exercício pede que o usuário insira nomes separados por vírgula (novo input), e crie uma lista de strings a partir dessa inserção. Utilize a função 'split' para conseguir separar os nomes.\n",
    "\n",
    "Deixo abaixo também algumas dicas de funções que podem te ajudar a resolver os exercícios.\n",
    "Estou à disposição caso tenha ficado com dúvidas, ok? Abraços"
   ]
  },
  {
   "cell_type": "markdown",
   "metadata": {},
   "source": [
    "### Dicas:"
   ]
  },
  {
   "cell_type": "code",
   "execution_count": 2,
   "metadata": {},
   "outputs": [
    {
     "name": "stdout",
     "output_type": "stream",
     "text": [
      "5\n"
     ]
    }
   ],
   "source": [
    "exemplo = input(\"Digite um número: \")\n",
    "\n",
    "print(exemplo)"
   ]
  },
  {
   "cell_type": "code",
   "execution_count": 7,
   "metadata": {},
   "outputs": [
    {
     "name": "stdout",
     "output_type": "stream",
     "text": [
      "Tipo da variável é: <class 'int'>, e a variável é: 5\n"
     ]
    }
   ],
   "source": [
    "x = int('5')\n",
    "tipo = type(x)\n",
    "\n",
    "print(f\"Tipo da variável é: {tipo}, e a variável é: {x}\")"
   ]
  },
  {
   "cell_type": "code",
   "execution_count": 9,
   "metadata": {},
   "outputs": [
    {
     "name": "stdout",
     "output_type": "stream",
     "text": [
      "[]\n",
      "[1, 2]\n"
     ]
    }
   ],
   "source": [
    "lista = []\n",
    "\n",
    "print(lista)\n",
    "\n",
    "lista.append(1)\n",
    "lista.append(2)\n",
    "\n",
    "print(lista)"
   ]
  },
  {
   "cell_type": "code",
   "execution_count": 18,
   "metadata": {},
   "outputs": [
    {
     "name": "stdout",
     "output_type": "stream",
     "text": [
      "<class 'str'>\n",
      "<class 'list'>\n",
      "['1', '2', '3', '4']\n"
     ]
    }
   ],
   "source": [
    "variavel_texto = '1,2,3,4'\n",
    "print(type(variavel_texto))\n",
    "\n",
    "lista = variavel_texto.split(',')\n",
    "print(type(lista))\n",
    "print(lista)"
   ]
  },
  {
   "cell_type": "code",
   "execution_count": 19,
   "metadata": {},
   "outputs": [
    {
     "name": "stdout",
     "output_type": "stream",
     "text": [
      "2.37\n"
     ]
    }
   ],
   "source": [
    "numero = 2.3654453\n",
    "\n",
    "print(round(numero,2))"
   ]
  }
 ],
 "metadata": {
  "kernelspec": {
   "display_name": "Python 3",
   "language": "python",
   "name": "python3"
  },
  "language_info": {
   "codemirror_mode": {
    "name": "ipython",
    "version": 3
   },
   "file_extension": ".py",
   "mimetype": "text/x-python",
   "name": "python",
   "nbconvert_exporter": "python",
   "pygments_lexer": "ipython3",
   "version": "3.12.1"
  }
 },
 "nbformat": 4,
 "nbformat_minor": 2
}
