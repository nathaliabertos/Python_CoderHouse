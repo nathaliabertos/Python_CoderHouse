{
 "cells": [
  {
   "cell_type": "code",
   "execution_count": 4,
   "metadata": {},
   "outputs": [
    {
     "name": "stdout",
     "output_type": "stream",
     "text": [
      "Requirement already satisfied: beautifulsoup4 in c:\\users\\natha\\appdata\\local\\programs\\python\\python312\\lib\\site-packages (4.12.3)\n",
      "Requirement already satisfied: soupsieve>1.2 in c:\\users\\natha\\appdata\\local\\programs\\python\\python312\\lib\\site-packages (from beautifulsoup4) (2.5)\n",
      "Note: you may need to restart the kernel to use updated packages.\n"
     ]
    }
   ],
   "source": [
    "pip install beautifulsoup4"
   ]
  },
  {
   "cell_type": "code",
   "execution_count": 5,
   "metadata": {},
   "outputs": [],
   "source": [
    "import pandas as pd\n",
    "import re\n",
    "\n",
    "import requests\n",
    "from bs4 import BeautifulSoup"
   ]
  },
  {
   "cell_type": "code",
   "execution_count": 6,
   "metadata": {},
   "outputs": [],
   "source": [
    "texto = \"\"\"\n",
    "O telefone da farmácia é 3000-3232, mas eles só atendem até as 18h em dias úteis.\n",
    "Se precisar entrar em contato fora desse horário, você pode enviar uma mensagem para o celular de emergência no número (11) 98765-4321.\n",
    "Importante ressaltar que hoje, 27/02/2024, é o último dia para aproveitar a promoção especial de medicamentos que começou em 01/02/2024.\n",
    "Não esqueça de apresentar seu CPF na hora da compra, o número 1.78923.456-00 é um exemplo válido.\n",
    "Para mais informações, acesse nosso site ou entre em contato diretamente\n",
    "(12)98765-4321\n",
    "27-02-2024.\"\"\""
   ]
  },
  {
   "cell_type": "code",
   "execution_count": 7,
   "metadata": {},
   "outputs": [
    {
     "name": "stderr",
     "output_type": "stream",
     "text": [
      "<>:1: SyntaxWarning: invalid escape sequence '\\d'\n",
      "<>:1: SyntaxWarning: invalid escape sequence '\\d'\n",
      "C:\\Users\\natha\\AppData\\Local\\Temp\\ipykernel_7104\\31685243.py:1: SyntaxWarning: invalid escape sequence '\\d'\n",
      "  pattern = '\\d{2}'\n"
     ]
    },
    {
     "data": {
      "text/plain": [
       "['30',\n",
       " '00',\n",
       " '32',\n",
       " '32',\n",
       " '18',\n",
       " '11',\n",
       " '98',\n",
       " '76',\n",
       " '43',\n",
       " '21',\n",
       " '27',\n",
       " '02',\n",
       " '20',\n",
       " '24',\n",
       " '01',\n",
       " '02',\n",
       " '20',\n",
       " '24',\n",
       " '78',\n",
       " '92',\n",
       " '45',\n",
       " '00',\n",
       " '12',\n",
       " '98',\n",
       " '76',\n",
       " '43',\n",
       " '21',\n",
       " '27',\n",
       " '02',\n",
       " '20',\n",
       " '24']"
      ]
     },
     "execution_count": 7,
     "metadata": {},
     "output_type": "execute_result"
    }
   ],
   "source": [
    "pattern = '\\d{2}'\n",
    "re.findall(pattern, texto)"
   ]
  },
  {
   "cell_type": "code",
   "execution_count": 8,
   "metadata": {},
   "outputs": [
    {
     "data": {
      "text/plain": [
       "['telefone',\n",
       " 'da',\n",
       " 'farm',\n",
       " 'cia',\n",
       " 'mas',\n",
       " 'eles',\n",
       " 's',\n",
       " 'atendem',\n",
       " 'at',\n",
       " 'as',\n",
       " 'h',\n",
       " 'em',\n",
       " 'dias',\n",
       " 'teis',\n",
       " 'e',\n",
       " 'precisar',\n",
       " 'entrar',\n",
       " 'em',\n",
       " 'contato',\n",
       " 'fora',\n",
       " 'desse',\n",
       " 'hor',\n",
       " 'rio',\n",
       " 'voc',\n",
       " 'pode',\n",
       " 'enviar',\n",
       " 'uma',\n",
       " 'mensagem',\n",
       " 'para',\n",
       " 'o',\n",
       " 'celular',\n",
       " 'de',\n",
       " 'emerg',\n",
       " 'ncia',\n",
       " 'no',\n",
       " 'n',\n",
       " 'mero',\n",
       " 'mportante',\n",
       " 'ressaltar',\n",
       " 'que',\n",
       " 'hoje',\n",
       " 'o',\n",
       " 'ltimo',\n",
       " 'dia',\n",
       " 'para',\n",
       " 'aproveitar',\n",
       " 'a',\n",
       " 'promo',\n",
       " 'o',\n",
       " 'especial',\n",
       " 'de',\n",
       " 'medicamentos',\n",
       " 'que',\n",
       " 'come',\n",
       " 'ou',\n",
       " 'em',\n",
       " 'o',\n",
       " 'esque',\n",
       " 'a',\n",
       " 'de',\n",
       " 'apresentar',\n",
       " 'seu',\n",
       " 'na',\n",
       " 'hora',\n",
       " 'da',\n",
       " 'compra',\n",
       " 'o',\n",
       " 'n',\n",
       " 'mero',\n",
       " 'um',\n",
       " 'exemplo',\n",
       " 'v',\n",
       " 'lido',\n",
       " 'ara',\n",
       " 'mais',\n",
       " 'informa',\n",
       " 'es',\n",
       " 'acesse',\n",
       " 'nosso',\n",
       " 'site',\n",
       " 'ou',\n",
       " 'entre',\n",
       " 'em',\n",
       " 'contato',\n",
       " 'diretamente']"
      ]
     },
     "execution_count": 8,
     "metadata": {},
     "output_type": "execute_result"
    }
   ],
   "source": [
    "pattern = r'[a-z]+'\n",
    "re.findall(pattern, texto)"
   ]
  },
  {
   "cell_type": "code",
   "execution_count": 9,
   "metadata": {},
   "outputs": [
    {
     "data": {
      "text/plain": [
       "['O',\n",
       " 'telefone',\n",
       " 'da',\n",
       " 'farmácia',\n",
       " 'é',\n",
       " '3000',\n",
       " '3232',\n",
       " 'mas',\n",
       " 'eles',\n",
       " 'só',\n",
       " 'atendem',\n",
       " 'até',\n",
       " 'as',\n",
       " '18h',\n",
       " 'em',\n",
       " 'dias',\n",
       " 'úteis',\n",
       " 'Se',\n",
       " 'precisar',\n",
       " 'entrar',\n",
       " 'em',\n",
       " 'contato',\n",
       " 'fora',\n",
       " 'desse',\n",
       " 'horário',\n",
       " 'você',\n",
       " 'pode',\n",
       " 'enviar',\n",
       " 'uma',\n",
       " 'mensagem',\n",
       " 'para',\n",
       " 'o',\n",
       " 'celular',\n",
       " 'de',\n",
       " 'emergência',\n",
       " 'no',\n",
       " 'número',\n",
       " '11',\n",
       " '98765',\n",
       " '4321',\n",
       " 'Importante',\n",
       " 'ressaltar',\n",
       " 'que',\n",
       " 'hoje',\n",
       " '27',\n",
       " '02',\n",
       " '2024',\n",
       " 'é',\n",
       " 'o',\n",
       " 'último',\n",
       " 'dia',\n",
       " 'para',\n",
       " 'aproveitar',\n",
       " 'a',\n",
       " 'promoção',\n",
       " 'especial',\n",
       " 'de',\n",
       " 'medicamentos',\n",
       " 'que',\n",
       " 'começou',\n",
       " 'em',\n",
       " '01',\n",
       " '02',\n",
       " '2024',\n",
       " 'Não',\n",
       " 'esqueça',\n",
       " 'de',\n",
       " 'apresentar',\n",
       " 'seu',\n",
       " 'CPF',\n",
       " 'na',\n",
       " 'hora',\n",
       " 'da',\n",
       " 'compra',\n",
       " 'o',\n",
       " 'número',\n",
       " '1',\n",
       " '78923',\n",
       " '456',\n",
       " '00',\n",
       " 'é',\n",
       " 'um',\n",
       " 'exemplo',\n",
       " 'válido',\n",
       " 'Para',\n",
       " 'mais',\n",
       " 'informações',\n",
       " 'acesse',\n",
       " 'nosso',\n",
       " 'site',\n",
       " 'ou',\n",
       " 'entre',\n",
       " 'em',\n",
       " 'contato',\n",
       " 'diretamente',\n",
       " '12',\n",
       " '98765',\n",
       " '4321',\n",
       " '27',\n",
       " '02',\n",
       " '2024']"
      ]
     },
     "execution_count": 9,
     "metadata": {},
     "output_type": "execute_result"
    }
   ],
   "source": [
    "pattern = r'\\w+'\n",
    "re.findall(pattern, texto)"
   ]
  },
  {
   "cell_type": "code",
   "execution_count": 10,
   "metadata": {},
   "outputs": [
    {
     "data": {
      "text/plain": [
       "['27/02/2024', '01/02/2024']"
      ]
     },
     "execution_count": 10,
     "metadata": {},
     "output_type": "execute_result"
    }
   ],
   "source": [
    "pattern = r'\\d{2}/\\d{2}/\\d{4}'\n",
    "re.findall(pattern, texto)"
   ]
  },
  {
   "cell_type": "code",
   "execution_count": 11,
   "metadata": {},
   "outputs": [
    {
     "data": {
      "text/plain": [
       "['27/02/2024', '01/02/2024', '27-02-2024']"
      ]
     },
     "execution_count": 11,
     "metadata": {},
     "output_type": "execute_result"
    }
   ],
   "source": [
    "pattern = r'\\d{2}/\\d{2}/\\d{4}|\\d{2}-\\d{2}-\\d{4}'\n",
    "re.findall(pattern, texto)"
   ]
  },
  {
   "cell_type": "code",
   "execution_count": 12,
   "metadata": {},
   "outputs": [
    {
     "name": "stdout",
     "output_type": "stream",
     "text": [
      "True\n"
     ]
    }
   ],
   "source": [
    "pattern = r'\\d+-\\d+'\n",
    "re.match(pattern, texto)\n",
    "print(bool((pattern, texto)))"
   ]
  },
  {
   "cell_type": "code",
   "execution_count": 13,
   "metadata": {},
   "outputs": [
    {
     "data": {
      "text/plain": [
       "['3000-3232', '98765-4321', '456-00', '98765-4321', '27-02']"
      ]
     },
     "execution_count": 13,
     "metadata": {},
     "output_type": "execute_result"
    }
   ],
   "source": [
    "pattern = r'\\d+-\\d+'\n",
    "re.findall(pattern, texto)"
   ]
  },
  {
   "cell_type": "code",
   "execution_count": 14,
   "metadata": {},
   "outputs": [
    {
     "data": {
      "text/plain": [
       "['3000-3232', '98765-4321', '98765-4321', '02-2024']"
      ]
     },
     "execution_count": 14,
     "metadata": {},
     "output_type": "execute_result"
    }
   ],
   "source": [
    "pattern = r'\\d+-\\d{4,5}'\n",
    "re.findall(pattern, texto)"
   ]
  },
  {
   "cell_type": "code",
   "execution_count": 15,
   "metadata": {},
   "outputs": [
    {
     "data": {
      "text/plain": [
       "['(11) 98765-4321', '(12)98765-4321']"
      ]
     },
     "execution_count": 15,
     "metadata": {},
     "output_type": "execute_result"
    }
   ],
   "source": [
    "pattern = r'\\(?\\d{2}\\)\\s?\\d+-\\d+'\n",
    "re.findall(pattern, texto)"
   ]
  },
  {
   "cell_type": "code",
   "execution_count": 16,
   "metadata": {},
   "outputs": [
    {
     "data": {
      "text/plain": [
       "[]"
      ]
     },
     "execution_count": 16,
     "metadata": {},
     "output_type": "execute_result"
    }
   ],
   "source": [
    "pattern = r'[\\w]+@[\\w]+\\.[\\w]+'\n",
    "re.findall(pattern, texto)"
   ]
  },
  {
   "cell_type": "code",
   "execution_count": 17,
   "metadata": {},
   "outputs": [
    {
     "data": {
      "text/plain": [
       "200"
      ]
     },
     "execution_count": 17,
     "metadata": {},
     "output_type": "execute_result"
    }
   ],
   "source": [
    "url = 'https://www.google.com.br/'\n",
    "response = requests.get(url)\n",
    "response.status_code"
   ]
  },
  {
   "cell_type": "code",
   "execution_count": 18,
   "metadata": {},
   "outputs": [
    {
     "data": {
      "text/plain": [
       "'<!DOCTYPE html>\\n<html itemscope=\"\" itemtype=\"http://schema.org/WebPage\" lang=\"pt-BR\">\\n <head>\\n  <meta content=\"text/html; charset=utf-8\" http-equiv=\"Content-Type\"/>\\n  <meta content=\"/logos/doodles/2024/leap-day-2024-6753651837110481-law.gif\" itemprop=\"image\"/>\\n  <meta content=\"Dia Bissexto 2024\" property=\"twitter:title\"/>\\n  <meta content=\"Dia Bissexto 2024! #GoogleDoodle\" property=\"twitter:description\"/>\\n  <meta content=\"Dia Bissexto 2024! #GoogleDoodle\" property=\"og:description\"/>\\n  <meta content=\"summary_large_image\" property=\"twitter:card\"/>\\n  <meta content=\"@GoogleDoodles\" property=\"twitter:site\"/>\\n  <meta content=\"https://www.google.com/logos/doodles/2024/leap-day-2024-6753651837110481-2xa.gif\" property=\"twitter:image\"/>\\n  <meta content=\"https://www.google.com/logos/doodles/2024/leap-day-2024-6753651837110481-2xa.gif\" property=\"og:image\"/>\\n  <meta content=\"1000\" property=\"og:image:width\"/>\\n  <meta content=\"400\" property=\"og:image:height\"/>\\n  <meta content=\"https://www.google.com/logos/doodles/2024/leap-day-2024-6753651837110481-2xa.gif\" property=\"og:url\"/>\\n  <meta content=\"video.other\" property=\"og:type\"/>\\n  <title>\\n   Google\\n  </title>\\n  <script nonce=\"CxJ82vnZUCH1faBmKdv32Q\">\\n   (function(){var _g={kEI:\\'VPngZZHJOJi_juMPkOiOyAc\\',kEXPI:\\'0,1365468,206,4804,1132070,1826,137,2,1195750,679,369,379728,44798,23792,284,12035,17580,4998,55519,2872,2891,4139,7615,606,29880,1,787,27619,2403,2614,13491,230,20583,4,57402,29259,6630,7596,1,42154,2,16395,8413,14953,6699,31122,4568,6253,24676,33064,2,2,1,6960,3997,13669,2006,8155,8860,14491,8702,13733,9779,42459,20198,34940,38239,3030,15816,1804,36229,10853,1632,13495,5251991,304,711,2,297,1990,84,5992594,2806666,32337,23939422,2772498,1271212,14297,2376,43886,3,312,4,1287,3,2121778,2585,22636437,392914,12799,8409,16664,5,13018,4428,10576,5878,14606,2852,7647,5887,1923,7287,1293,2,6,2370,6407,13846,12952,1783,429,149,517,7515,8135,3,558,4549,4501,5,125,4021,4,1061,398,1855,1901,1877,95,2245,462,880,2470,4482,3,5539,115,6,28,78,665,372,951,252,1794,1729,385,4,1096,1123,1999,490,2046,1213,3567,4,587,9,6465,656,291,4,1266,3,77,462,72,422,1018,845,226,739,884,350,392,155,343,2141,5,230,185,1085,1311,141,4,381,436,1,323,234,1,63,588,52,461,4,838,276,1409,236,8,20,655,1325,2358,10,725,98,4,36,177,27,58,540,21,1976,34,1084,58,2629,3,647,157,325,9,311,14,568,3499,519,5,161,106,342,972,66,28,250,574,3,4,188,42,144,221,810,275,25,229,32,2,490,150,69,565,294,178,445,18,252,96,165,171,214,18,75,214,606,320,207,121,405,860,153,4,1,6,32,8,133,606,221,39,46,178,1230,2,5,3,213,90,1373,107,1793,21684023,3,5571,492,49\\',kBL:\\'hdjC\\',kOPI:89978449};(function(){var a;(null==(a=window.google)?0:a.stvsc)?google.kEI=_g.kEI:window.google=_g;}).call(this);})();(function(){google.sn=\\'webhp\\';google.kHL=\\'pt-BR\\';})();(function(){\\nvar h=this||self;function l(){return void 0!==window.google&&void 0!==window.google.kOPI&&0!==window.google.kOPI?window.google.kOPI:null};var m,n=[];function p(a){for(var b;a&&(!a.getAttribute||!(b=a.getAttribute(\"eid\")));)a=a.parentNode;return b||m}function q(a){for(var b=null;a&&(!a.getAttribute||!(b=a.getAttribute(\"leid\")));)a=a.parentNode;return b}function r(a){/^http:/i.test(a)&&\"https:\"===window.location.protocol&&(google.ml&&google.ml(Error(\"a\"),!1,{src:a,glmm:1}),a=\"\");return a}\\nfunction t(a,b,c,d,k){var e=\"\";-1===b.search(\"&ei=\")&&(e=\"&ei=\"+p(d),-1===b.search(\"&lei=\")&&(d=q(d))&&(e+=\"&lei=\"+d));d=\"\";var g=-1===b.search(\"&cshid=\")&&\"slh\"!==a,f=[];f.push([\"zx\",Date.now().toString()]);h._cshid&&g&&f.push([\"cshid\",h._cshid]);c=c();null!=c&&f.push([\"opi\",c.toString()]);for(c=0;c<f.length;c++){if(0===c||0<c)d+=\"&\";d+=f[c][0]+\"=\"+f[c][1]}return\"/\"+(k||\"gen_204\")+\"?atyp=i&ct=\"+String(a)+\"&cad=\"+(b+e+d)};m=google.kEI;google.getEI=p;google.getLEI=q;google.ml=function(){return null};google.log=function(a,b,c,d,k,e){e=void 0===e?l:e;c||(c=t(a,b,e,d,k));if(c=r(c)){a=new Image;var g=n.length;n[g]=a;a.onerror=a.onload=a.onabort=function(){delete n[g]};a.src=c}};google.logUrl=function(a,b){b=void 0===b?l:b;return t(\"\",a,b)};}).call(this);(function(){google.y={};google.sy=[];google.x=function(a,b){if(a)var c=a.id;else{do c=Math.random();while(google.y[c])}google.y[c]=[a,b];return!1};google.sx=function(a){google.sy.push(a)};google.lm=[];google.plm=function(a){google.lm.push.apply(google.lm,a)};google.lq=[];google.load=function(a,b,c){google.lq.push([[a],b,c])};google.loadAll=function(a,b){google.lq.push([a,b])};google.bx=!1;google.lx=function(){};var d=[];google.fce=function(a,b,c,e){d.push([a,b,c,e])};google.qce=d;}).call(this);google.f={};(function(){\\ndocument.documentElement.addEventListener(\"submit\",function(b){var a;if(a=b.target){var c=a.getAttribute(\"data-submitfalse\");a=\"1\"===c||\"q\"===c&&!a.elements.q.value?!0:!1}else a=!1;a&&(b.preventDefault(),b.stopPropagation())},!0);document.documentElement.addEventListener(\"click\",function(b){var a;a:{for(a=b.target;a&&a!==document.documentElement;a=a.parentElement)if(\"A\"===a.tagName){a=\"1\"===a.getAttribute(\"data-nohref\");break a}a=!1}a&&b.preventDefault()},!0);}).call(this);\\n  </script>\\n  <style>\\n   #gbar,#guser{font-size:13px;padding-top:1px !important;}#gbar{height:22px}#guser{padding-bottom:7px !important;text-align:right}.gbh,.gbd{border-top:1px solid #c9d7f1;font-size:1px}.gbh{height:0;position:absolute;top:24px;width:100%}@media all{.gb1{height:22px;margin-right:.5em;vertical-align:top}#gbar{float:left}}a.gb1,a.gb4{text-decoration:underline !important}a.gb1,a.gb4{color:#00c !important}.gbi .gb4{color:#dd8e27 !important}.gbf .gb4{color:#900 !important}\\n  </style>\\n  <style>\\n   body,td,a,p,.h{font-family:arial,sans-serif}body{margin:0;overflow-y:scroll}#gog{padding:3px 8px 0}td{line-height:.8em}.gac_m td{line-height:17px}form{margin-bottom:20px}.h{color:#1967d2}em{font-weight:bold;font-style:normal}.lst{height:25px;width:496px}.gsfi,.lst{font:18px arial,sans-serif}.gsfs{font:17px arial,sans-serif}.ds{display:inline-box;display:inline-block;margin:3px 0 4px;margin-left:4px}input{font-family:inherit}body{background:#fff;color:#000}a{color:#681da8;text-decoration:none}a:hover,a:active{text-decoration:underline}.fl a{color:#1967d2}a:visited{color:#681da8}.sblc{padding-top:5px}.sblc a{display:block;margin:2px 0;margin-left:13px;font-size:11px}.lsbb{background:#f8f9fa;border:solid 1px;border-color:#dadce0 #70757a #70757a #dadce0;height:30px}.lsbb{display:block}#WqQANb a{display:inline-block;margin:0 12px}.lsb{background:url(/images/nav_logo229.png) 0 -261px repeat-x;color:#000;border:none;cursor:pointer;height:30px;margin:0;outline:0;font:15px arial,sans-serif;vertical-align:top}.lsb:active{background:#dadce0}.lst:focus{outline:none}.Ucigb{width:458px}\\n  </style>\\n  <script nonce=\"CxJ82vnZUCH1faBmKdv32Q\">\\n   (function(){window.google.erd={jsr:1,bv:1964,de:true};\\nvar h=this||self;var k,l=null!=(k=h.mei)?k:1,n,p=null!=(n=h.sdo)?n:!0,q=0,r,t=google.erd,v=t.jsr;google.ml=function(a,b,d,m,e){e=void 0===e?2:e;b&&(r=a&&a.message);void 0===d&&(d={});d.cad=\"ple_\"+google.ple+\".aple_\"+google.aple;if(google.dl)return google.dl(a,e,d),null;b=d;if(0>v){window.console&&console.error(a,b);if(-2===v)throw a;b=!1}else b=!a||!a.message||\"Error loading script\"===a.message||q>=l&&!m?!1:!0;if(!b)return null;q++;d=d||{};b=encodeURIComponent;var c=\"/gen_204?atyp=i&ei=\"+b(google.kEI);google.kEXPI&&(c+=\"&jexpid=\"+b(google.kEXPI));c+=\"&srcpg=\"+b(google.sn)+\"&jsr=\"+b(t.jsr)+\"&bver=\"+\\nb(t.bv);var f=a.lineNumber;void 0!==f&&(c+=\"&line=\"+f);var g=a.fileName;g&&(0<g.indexOf(\"-extension:/\")&&(e=3),c+=\"&script=\"+b(g),f&&g===window.location.href&&(f=document.documentElement.outerHTML.split(\"\\\\n\")[f],c+=\"&cad=\"+b(f?f.substring(0,300):\"No script found.\")));google.ple&&1===google.ple&&(e=2);c+=\"&jsel=\"+e;for(var u in d)c+=\"&\",c+=b(u),c+=\"=\",c+=b(d[u]);c=c+\"&emsg=\"+b(a.name+\": \"+a.message);c=c+\"&jsst=\"+b(a.stack||\"N/A\");12288<=c.length&&(c=c.substr(0,12288));a=c;m||google.log(0,\"\",a);return a};window.onerror=function(a,b,d,m,e){r!==a&&(a=e instanceof Error?e:Error(a),void 0===d||\"lineNumber\"in a||(a.lineNumber=d),void 0===b||\"fileName\"in a||(a.fileName=b),google.ml(a,!1,void 0,!1,\"SyntaxError\"===a.name||\"SyntaxError\"===a.message.substring(0,11)||-1!==a.message.indexOf(\"Script error\")?3:0));r=null;p&&q>=l&&(window.onerror=null)};})();\\n  </script>\\n </head>\\n <body bgcolor=\"#fff\">\\n  <script nonce=\"CxJ82vnZUCH1faBmKdv32Q\">\\n   (function(){var src=\\'/images/nav_logo229.png\\';var iesg=false;document.body.onload = function(){window.n && window.n();if (document.images){new Image().src=src;}\\nif (!iesg){document.f&&document.f.q.focus();document.gbqf&&document.gbqf.q.focus();}\\n}\\n})();\\n  </script>\\n  <div id=\"mngb\">\\n   <div id=\"gbar\">\\n    <nobr>\\n     <b class=\"gb1\">\\n      Pesquisa\\n     </b>\\n     <a class=\"gb1\" href=\"https://www.google.com.br/imghp?hl=pt-BR&amp;tab=wi\">\\n      Imagens\\n     </a>\\n     <a class=\"gb1\" href=\"https://maps.google.com.br/maps?hl=pt-BR&amp;tab=wl\">\\n      Maps\\n     </a>\\n     <a class=\"gb1\" href=\"https://play.google.com/?hl=pt-BR&amp;tab=w8\">\\n      Play\\n     </a>\\n     <a class=\"gb1\" href=\"https://www.youtube.com/?tab=w1\">\\n      YouTube\\n     </a>\\n     <a class=\"gb1\" href=\"https://news.google.com/?tab=wn\">\\n      Notícias\\n     </a>\\n     <a class=\"gb1\" href=\"https://mail.google.com/mail/?tab=wm\">\\n      Gmail\\n     </a>\\n     <a class=\"gb1\" href=\"https://drive.google.com/?tab=wo\">\\n      Drive\\n     </a>\\n     <a class=\"gb1\" href=\"https://www.google.com.br/intl/pt-BR/about/products?tab=wh\" style=\"text-decoration:none\">\\n      <u>\\n       Mais\\n      </u>\\n      »\\n     </a>\\n    </nobr>\\n   </div>\\n   <div id=\"guser\" width=\"100%\">\\n    <nobr>\\n     <span class=\"gbi\" id=\"gbn\">\\n     </span>\\n     <span class=\"gbf\" id=\"gbf\">\\n     </span>\\n     <span id=\"gbe\">\\n     </span>\\n     <a class=\"gb4\" href=\"http://www.google.com.br/history/optout?hl=pt-BR\">\\n      Histórico da Web\\n     </a>\\n     |\\n     <a class=\"gb4\" href=\"/preferences?hl=pt-BR\">\\n      Configurações\\n     </a>\\n     |\\n     <a class=\"gb4\" href=\"https://accounts.google.com/ServiceLogin?hl=pt-BR&amp;passive=true&amp;continue=https://www.google.com.br/&amp;ec=GAZAAQ\" id=\"gb_70\" target=\"_top\">\\n      Fazer login\\n     </a>\\n    </nobr>\\n   </div>\\n   <div class=\"gbh\" style=\"left:0\">\\n   </div>\\n   <div class=\"gbh\" style=\"right:0\">\\n   </div>\\n  </div>\\n  <center>\\n   <br clear=\"all\" id=\"lgpd\"/>\\n   <div id=\"lga\">\\n    <a href=\"/search?sca_esv=6459c9e3b5d5a0f2&amp;sca_upv=1&amp;ie=UTF-8&amp;q=Dia+Bissexto+2024+&amp;oi=ddle&amp;ct=320706499&amp;hl=pt-BR&amp;si=AKbGX_rO4P19IF_yO85wYpkEaz-W_oZWd5JUOOVnUVftf2aeoT6fGLjyYX6UCjKQzyJKXIYK0n0uCuWsaBMv_YTaG2LB3gndx7lOkfHZq-35aHWcXrYkkx07z8iUEXuyOa2eQuG0z3L2eVHweIBJ4VkNv3BiuyWKcnhmqjUZ_KNGHCxVliHjga4%3D&amp;sa=X&amp;ved=0ahUKEwiRw4CkwdGEAxWYn2MGHRC0A3kQPQgD\">\\n     <img alt=\"Dia Bissexto 2024\" border=\"0\" height=\"200\" id=\"hplogo\" src=\"/logos/doodles/2024/leap-day-2024-6753651837110481-law.gif\" title=\"Dia Bissexto 2024\" width=\"500\"/>\\n     <br/>\\n    </a>\\n    <br/>\\n   </div>\\n   <form action=\"/search\" name=\"f\">\\n    <table cellpadding=\"0\" cellspacing=\"0\">\\n     <tr valign=\"top\">\\n      <td width=\"25%\">\\n      </td>\\n      <td align=\"center\" nowrap=\"\">\\n       <input name=\"ie\" type=\"hidden\" value=\"ISO-8859-1\"/>\\n       <input name=\"hl\" type=\"hidden\" value=\"pt-BR\"/>\\n       <input name=\"source\" type=\"hidden\" value=\"hp\"/>\\n       <input name=\"biw\" type=\"hidden\"/>\\n       <input name=\"bih\" type=\"hidden\"/>\\n       <div class=\"ds\" style=\"height:32px;margin:4px 0\">\\n        <div style=\"position:relative;zoom:1\">\\n         <input autocomplete=\"off\" class=\"lst Ucigb\" maxlength=\"2048\" name=\"q\" size=\"57\" style=\"margin:0;padding:5px 8px 0 6px;vertical-align:top;color:#000;padding-right:38px\" title=\"Pesquisa Google\" value=\"\"/>\\n         <img alt=\"\" data-script-url=\"/textinputassistant/13/pt-BR_tia.js\" height=\"23\" id=\"tsuid_1\" src=\"/textinputassistant/tia.png\" style=\"position:absolute;cursor:pointer;right:5px;top:4px;z-index:300\" width=\"27\"/>\\n         <script nonce=\"CxJ82vnZUCH1faBmKdv32Q\">\\n          (function(){var id=\\'tsuid_1\\';document.getElementById(id).onclick = function(){var s = document.createElement(\\'script\\');s.src = this.getAttribute(\\'data-script-url\\');document.body.appendChild(s);};})();\\n         </script>\\n        </div>\\n       </div>\\n       <br style=\"line-height:0\"/>\\n       <span class=\"ds\">\\n        <span class=\"lsbb\">\\n         <input class=\"lsb\" name=\"btnG\" type=\"submit\" value=\"Pesquisa Google\"/>\\n        </span>\\n       </span>\\n       <span class=\"ds\">\\n        <span class=\"lsbb\">\\n         <input class=\"lsb\" id=\"tsuid_2\" name=\"btnI\" type=\"submit\" value=\"Estou com sorte\"/>\\n         <script nonce=\"CxJ82vnZUCH1faBmKdv32Q\">\\n          (function(){var id=\\'tsuid_2\\';document.getElementById(id).onclick = function(){if (this.form.q.value){this.checked = 1;if (this.form.iflsig)this.form.iflsig.disabled = false;}\\nelse top.location=\\'/doodles/\\';};})();\\n         </script>\\n         <input name=\"iflsig\" type=\"hidden\" value=\"ANes7DEAAAAAZeEHZNS2NHOjxJ4sroQTHeqbUPhPxCoZ\"/>\\n        </span>\\n       </span>\\n      </td>\\n      <td align=\"left\" class=\"fl sblc\" nowrap=\"\" width=\"25%\">\\n       <a href=\"/advanced_search?hl=pt-BR&amp;authuser=0\">\\n        Pesquisa avançada\\n       </a>\\n      </td>\\n     </tr>\\n    </table>\\n    <input id=\"gbv\" name=\"gbv\" type=\"hidden\" value=\"1\"/>\\n    <script nonce=\"CxJ82vnZUCH1faBmKdv32Q\">\\n     (function(){var a,b=\"1\";if(document&&document.getElementById)if(\"undefined\"!=typeof XMLHttpRequest)b=\"2\";else if(\"undefined\"!=typeof ActiveXObject){var c,d,e=[\"MSXML2.XMLHTTP.6.0\",\"MSXML2.XMLHTTP.3.0\",\"MSXML2.XMLHTTP\",\"Microsoft.XMLHTTP\"];for(c=0;d=e[c++];)try{new ActiveXObject(d),b=\"2\"}catch(h){}}a=b;if(\"2\"==a&&-1==location.search.indexOf(\"&gbv=2\")){var f=google.gbvu,g=document.getElementById(\"gbv\");g&&(g.value=a);f&&window.setTimeout(function(){location.href=f},0)};}).call(this);\\n    </script>\\n   </form>\\n   <div id=\"gac_scont\">\\n   </div>\\n   <div style=\"font-size:83%;min-height:3.5em\">\\n    <br/>\\n   </div>\\n   <span id=\"footer\">\\n    <div style=\"font-size:10pt\">\\n     <div id=\"WqQANb\" style=\"margin:19px auto;text-align:center\">\\n      <a href=\"/intl/pt-BR/ads/\">\\n       Publicidade\\n      </a>\\n      <a href=\"/services/\">\\n       Soluções empresariais\\n      </a>\\n      <a href=\"/intl/pt-BR/about.html\">\\n       Sobre o Google\\n      </a>\\n      <a href=\"https://www.google.com.br/setprefdomain?prefdom=US&amp;sig=K_pVuY_Iq2HS5E9zk0C7ri8zQek-U%3D\" id=\"fehl\">\\n       Google.com\\n      </a>\\n     </div>\\n    </div>\\n    <p style=\"font-size:8pt;color:#70757a\">\\n     © 2024 -\\n     <a href=\"/intl/pt-BR/policies/privacy/\">\\n      Privacidade\\n     </a>\\n     -\\n     <a href=\"/intl/pt-BR/policies/terms/\">\\n      Termos\\n     </a>\\n    </p>\\n   </span>\\n  </center>\\n  <script nonce=\"CxJ82vnZUCH1faBmKdv32Q\">\\n   (function(){window.google.cdo={height:757,width:1440};(function(){var a=window.innerWidth,b=window.innerHeight;if(!a||!b){var c=window.document,d=\"CSS1Compat\"==c.compatMode?c.documentElement:c.body;a=d.clientWidth;b=d.clientHeight}\\nif(a&&b&&(a!=google.cdo.width||b!=google.cdo.height)){var e=google,f=e.log,g=\"/client_204?&atyp=i&biw=\"+a+\"&bih=\"+b+\"&ei=\"+google.kEI,h=\"\",k=[],l=void 0!==window.google&&void 0!==window.google.kOPI&&0!==window.google.kOPI?window.google.kOPI:null;null!=l&&k.push([\"opi\",l.toString()]);for(var m=0;m<k.length;m++){if(0===m||0<m)h+=\"&\";h+=k[m][0]+\"=\"+k[m][1]}f.call(e,\"\",\"\",g+h)};}).call(this);})();\\n  </script>\\n  <script nonce=\"CxJ82vnZUCH1faBmKdv32Q\">\\n   (function(){google.xjs={ck:\\'xjs.hp.h8BqKVPLXWs.L.X.O\\',combam:\\'AAAAAAAAAAAAAAAAAAAAAAAAAAABAAAAAABwAAAAAUAAAACAAQAAAAAAAIAA4CA6AoABOAIAAC8\\',cs:\\'ACT90oEB_pt2jcnyv_121G--YBUQ4mAqVg\\',cssam:\\'AAAAAAAAAAAAAAAAAAAAAAAAAAAAAAAAAAAAAAAAAUAAAAAAAAAAAAAAAIA\\',cssopt:true,csss:\\'ACT90oHwIMcYRfOxPffUaw8ib6tBhi5wog\\',excm:[],jsam:\\'AAAAAAAAAAAAAAAAAAAAAAAAAAABAAAAAABwAAAAAAAAAACAAQAAAAAAAAAA4CA6AoABOAIAAC8\\',jss:\\'ACT90oFxLaHv14n1QLnWDckI58LwPjaNHw\\',noinlinecss:false,sepam:true,sepcss:true};})();\\n  </script>\\n  <script nonce=\"CxJ82vnZUCH1faBmKdv32Q\">\\n   (function(){var u=\\'/xjs/_/js/k\\\\x3dxjs.hp.en.GGG73_MFFT4.O/am\\\\x3dAAAAAAAAAAAAAAAAAAAAAAAAAAABAAAAAABwAAAAAUAAAACAAQAAAAAAAIAA4CA6AoABOAIAAC8/d\\\\x3d1/ed\\\\x3d1/rs\\\\x3dACT90oHkz2_HH90wZurtDyU2IJF0sFyGHg/m\\\\x3dsb_he,d\\';var amd=0;\\nvar e=this||self,f=function(a){return a};var g;var h=function(a){this.g=a};h.prototype.toString=function(){return this.g+\"\"};var k={};var l=function(){var a=document;var b=\"SCRIPT\";\"application/xhtml+xml\"===a.contentType&&(b=b.toLowerCase());return a.createElement(b)};\\nfunction m(a,b){a.src=b instanceof h&&b.constructor===h?b.g:\"type_error:TrustedResourceUrl\";var c,d;(c=(b=null==(d=(c=(a.ownerDocument&&a.ownerDocument.defaultView||window).document).querySelector)?void 0:d.call(c,\"script[nonce]\"))?b.nonce||b.getAttribute(\"nonce\")||\"\":\"\")&&a.setAttribute(\"nonce\",c)};function n(a){a=null===a?\"null\":void 0===a?\"undefined\":a;if(void 0===g){var b=null;var c=e.trustedTypes;if(c&&c.createPolicy){try{b=c.createPolicy(\"goog#html\",{createHTML:f,createScript:f,createScriptURL:f})}catch(d){e.console&&e.console.error(d.message)}g=b}else g=b}a=(b=g)?b.createScriptURL(a):a;return new h(a,k)};void 0===google.ps&&(google.ps=[]);function p(){var a=u,b=function(){};google.lx=google.stvsc?b:function(){q(a);google.lx=b};google.bx||google.lx()}function r(a,b){b&&m(a,n(b));var c=a.onload;a.onload=function(d){c&&c(d);google.ps=google.ps.filter(function(t){return a!==t})};google.ps.push(a);document.body.appendChild(a)}google.as=r;function q(a){google.timers&&google.timers.load&&google.tick&&google.tick(\"load\",\"xjsls\");var b=l();b.onerror=function(){google.ple=1};b.onload=function(){google.ple=0};google.xjsus=void 0;r(b,a);google.aple=-1;google.psa=!0};google.xjsu=u;e._F_jsUrl=u;setTimeout(function(){0<amd?google.caft(function(){return p()},amd):p()},0);})();window._ = window._ || {};window._DumpException = _._DumpException = function(e){throw e;};window._s = window._s || {};_s._DumpException = _._DumpException;window._qs = window._qs || {};_qs._DumpException = _._DumpException;(function(){var t=[1,4,0,0,0,1280,0,12316,2113537,134610944,67108864,2621440,37363936,149030400,49283072];window._F_toggles = window._xjs_toggles = t;})();function _F_installCss(c){}\\n(function(){google.jl={bfl:0,chnk:0,dw:false,dwu:true,emtn:0,end:0,ico:false,ikb:0,ine:false,lls:\\'default\\',rep:0,snet:true,strt:0,ubm:false,uwp:true};})();(function(){var pmc=\\'{\\\\x22d\\\\x22:{},\\\\x22sb_he\\\\x22:{\\\\x22agen\\\\x22:false,\\\\x22cgen\\\\x22:false,\\\\x22client\\\\x22:\\\\x22heirloom-hp\\\\x22,\\\\x22dh\\\\x22:true,\\\\x22ds\\\\x22:\\\\x22\\\\x22,\\\\x22fl\\\\x22:true,\\\\x22host\\\\x22:\\\\x22google.com.br\\\\x22,\\\\x22jsonp\\\\x22:true,\\\\x22msgs\\\\x22:{\\\\x22cibl\\\\x22:\\\\x22Limpar pesquisa\\\\x22,\\\\x22dym\\\\x22:\\\\x22Voc\\\\\\\\u00ea quis dizer:\\\\x22,\\\\x22lcky\\\\x22:\\\\x22Estou com sorte\\\\x22,\\\\x22lml\\\\x22:\\\\x22Saiba mais\\\\x22,\\\\x22psrc\\\\x22:\\\\x22Esta pesquisa foi removida do seu\\\\\\\\u003Ca href\\\\x3d\\\\\\\\\\\\x22/history\\\\\\\\\\\\x22\\\\\\\\u003EHist\\\\\\\\u00f3rico da web\\\\\\\\u003C/a\\\\\\\\u003E\\\\x22,\\\\x22psrl\\\\x22:\\\\x22Remover\\\\x22,\\\\x22sbit\\\\x22:\\\\x22Pesquisa por imagem\\\\x22,\\\\x22srch\\\\x22:\\\\x22Pesquisa Google\\\\x22},\\\\x22ovr\\\\x22:{},\\\\x22pq\\\\x22:\\\\x22\\\\x22,\\\\x22rfs\\\\x22:[],\\\\x22sbas\\\\x22:\\\\x220 3px 8px 0 rgba(0,0,0,0.2),0 0 0 1px rgba(0,0,0,0.08)\\\\x22,\\\\x22stok\\\\x22:\\\\x22tGQLxiLseZjkm49U981ZbX7A7QM\\\\x22}}\\';google.pmc=JSON.parse(pmc);})();(function(){var b=function(a){var c=0;return function(){return c<a.length?{done:!1,value:a[c++]}:{done:!0}}};\\nvar e=this||self;var g,h;a:{for(var k=[\"CLOSURE_FLAGS\"],l=e,n=0;n<k.length;n++)if(l=l[k[n]],null==l){h=null;break a}h=l}var p=h&&h[610401301];g=null!=p?p:!1;var q,r=e.navigator;q=r?r.userAgentData||null:null;function t(a){return g?q?q.brands.some(function(c){return(c=c.brand)&&-1!=c.indexOf(a)}):!1:!1}function u(a){var c;a:{if(c=e.navigator)if(c=c.userAgent)break a;c=\"\"}return-1!=c.indexOf(a)};function v(){return g?!!q&&0<q.brands.length:!1}function w(){return u(\"Safari\")&&!(x()||(v()?0:u(\"Coast\"))||(v()?0:u(\"Opera\"))||(v()?0:u(\"Edge\"))||(v()?t(\"Microsoft Edge\"):u(\"Edg/\"))||(v()?t(\"Opera\"):u(\"OPR\"))||u(\"Firefox\")||u(\"FxiOS\")||u(\"Silk\")||u(\"Android\"))}function x(){return v()?t(\"Chromium\"):(u(\"Chrome\")||u(\"CriOS\"))&&!(v()?0:u(\"Edge\"))||u(\"Silk\")}function y(){return u(\"Android\")&&!(x()||u(\"Firefox\")||u(\"FxiOS\")||(v()?0:u(\"Opera\"))||u(\"Silk\"))};var z=v()?!1:u(\"Trident\")||u(\"MSIE\");y();x();w();Object.freeze(new function(){});Object.freeze(new function(){});var A=!z&&!w(),D=function(a){if(/-[a-z]/.test(\"ved\"))return null;if(A&&a.dataset){if(y()&&!(\"ved\"in a.dataset))return null;a=a.dataset.ved;return void 0===a?null:a}return a.getAttribute(\"data-\"+\"ved\".replace(/([A-Z])/g,\"-$1\").toLowerCase())};var E=[],F=null;function G(a){a=a.target;var c=performance.now(),f=[],H=f.concat,d=E;if(!(d instanceof Array)){var m=\"undefined\"!=typeof Symbol&&Symbol.iterator&&d[Symbol.iterator];if(m)d=m.call(d);else if(\"number\"==typeof d.length)d={next:b(d)};else throw Error(\"a`\"+String(d));for(var B=[];!(m=d.next()).done;)B.push(m.value);d=B}E=H.call(f,d,[c]);if(a&&a instanceof HTMLElement)if(a===F){if(c=4<=E.length)c=5>(E[E.length-1]-E[E.length-4])/1E3;if(c){c=google.getEI(a);a.hasAttribute(\"data-ved\")?f=a?D(a)||\"\":\"\":f=(f=\\na.closest(\"[data-ved]\"))?D(f)||\"\":\"\";f=f||\"\";if(a.hasAttribute(\"jsname\"))a=a.getAttribute(\"jsname\");else{var C;a=null==(C=a.closest(\"[jsname]\"))?void 0:C.getAttribute(\"jsname\")}google.log(\"rcm\",\"&ei=\"+c+\"&ved=\"+f+\"&jsname=\"+(a||\"\"))}}else F=a,E=[c]}window.document.addEventListener(\"DOMContentLoaded\",function(){document.body.addEventListener(\"click\",G)});}).call(this);\\n  </script>\\n </body>\\n</html>\\n'"
      ]
     },
     "execution_count": 18,
     "metadata": {},
     "output_type": "execute_result"
    }
   ],
   "source": [
    "soup = BeautifulSoup(response.text, 'html.parser')\n",
    "soup.prettify()"
   ]
  },
  {
   "cell_type": "code",
   "execution_count": 19,
   "metadata": {},
   "outputs": [
    {
     "data": {
      "text/plain": [
       "[<a class=\"gb1\" href=\"https://www.google.com.br/imghp?hl=pt-BR&amp;tab=wi\">Imagens</a>,\n",
       " <a class=\"gb1\" href=\"https://maps.google.com.br/maps?hl=pt-BR&amp;tab=wl\">Maps</a>,\n",
       " <a class=\"gb1\" href=\"https://play.google.com/?hl=pt-BR&amp;tab=w8\">Play</a>,\n",
       " <a class=\"gb1\" href=\"https://www.youtube.com/?tab=w1\">YouTube</a>,\n",
       " <a class=\"gb1\" href=\"https://news.google.com/?tab=wn\">Notícias</a>,\n",
       " <a class=\"gb1\" href=\"https://mail.google.com/mail/?tab=wm\">Gmail</a>,\n",
       " <a class=\"gb1\" href=\"https://drive.google.com/?tab=wo\">Drive</a>,\n",
       " <a class=\"gb1\" href=\"https://www.google.com.br/intl/pt-BR/about/products?tab=wh\" style=\"text-decoration:none\"><u>Mais</u> »</a>,\n",
       " <a class=\"gb4\" href=\"http://www.google.com.br/history/optout?hl=pt-BR\">Histórico da Web</a>,\n",
       " <a class=\"gb4\" href=\"/preferences?hl=pt-BR\">Configuraçőes</a>,\n",
       " <a class=\"gb4\" href=\"https://accounts.google.com/ServiceLogin?hl=pt-BR&amp;passive=true&amp;continue=https://www.google.com.br/&amp;ec=GAZAAQ\" id=\"gb_70\" target=\"_top\">Fazer login</a>,\n",
       " <a href=\"/search?sca_esv=6459c9e3b5d5a0f2&amp;sca_upv=1&amp;ie=UTF-8&amp;q=Dia+Bissexto+2024+&amp;oi=ddle&amp;ct=320706499&amp;hl=pt-BR&amp;si=AKbGX_rO4P19IF_yO85wYpkEaz-W_oZWd5JUOOVnUVftf2aeoT6fGLjyYX6UCjKQzyJKXIYK0n0uCuWsaBMv_YTaG2LB3gndx7lOkfHZq-35aHWcXrYkkx07z8iUEXuyOa2eQuG0z3L2eVHweIBJ4VkNv3BiuyWKcnhmqjUZ_KNGHCxVliHjga4%3D&amp;sa=X&amp;ved=0ahUKEwiRw4CkwdGEAxWYn2MGHRC0A3kQPQgD\"><img alt=\"Dia Bissexto 2024\" border=\"0\" height=\"200\" id=\"hplogo\" src=\"/logos/doodles/2024/leap-day-2024-6753651837110481-law.gif\" title=\"Dia Bissexto 2024\" width=\"500\"/><br/></a>,\n",
       " <a href=\"/advanced_search?hl=pt-BR&amp;authuser=0\">Pesquisa avançada</a>,\n",
       " <a href=\"/intl/pt-BR/ads/\">Publicidade</a>,\n",
       " <a href=\"/services/\">Soluçőes empresariais</a>,\n",
       " <a href=\"/intl/pt-BR/about.html\">Sobre o Google</a>,\n",
       " <a href=\"https://www.google.com.br/setprefdomain?prefdom=US&amp;sig=K_pVuY_Iq2HS5E9zk0C7ri8zQek-U%3D\" id=\"fehl\">Google.com</a>,\n",
       " <a href=\"/intl/pt-BR/policies/privacy/\">Privacidade</a>,\n",
       " <a href=\"/intl/pt-BR/policies/terms/\">Termos</a>]"
      ]
     },
     "execution_count": 19,
     "metadata": {},
     "output_type": "execute_result"
    }
   ],
   "source": [
    "soup = BeautifulSoup(response.content)\n",
    "links = soup.find_all('a')\n",
    "links"
   ]
  },
  {
   "cell_type": "code",
   "execution_count": 20,
   "metadata": {},
   "outputs": [
    {
     "name": "stdout",
     "output_type": "stream",
     "text": [
      "https://www.google.com.br/imghp?hl=pt-BR&tab=wi\n",
      "https://maps.google.com.br/maps?hl=pt-BR&tab=wl\n",
      "https://play.google.com/?hl=pt-BR&tab=w8\n",
      "https://www.youtube.com/?tab=w1\n",
      "https://news.google.com/?tab=wn\n",
      "https://mail.google.com/mail/?tab=wm\n",
      "https://drive.google.com/?tab=wo\n",
      "https://www.google.com.br/intl/pt-BR/about/products?tab=wh\n",
      "http://www.google.com.br/history/optout?hl=pt-BR\n",
      "/preferences?hl=pt-BR\n",
      "https://accounts.google.com/ServiceLogin?hl=pt-BR&passive=true&continue=https://www.google.com.br/&ec=GAZAAQ\n",
      "/search?sca_esv=6459c9e3b5d5a0f2&sca_upv=1&ie=UTF-8&q=Dia+Bissexto+2024+&oi=ddle&ct=320706499&hl=pt-BR&si=AKbGX_rO4P19IF_yO85wYpkEaz-W_oZWd5JUOOVnUVftf2aeoT6fGLjyYX6UCjKQzyJKXIYK0n0uCuWsaBMv_YTaG2LB3gndx7lOkfHZq-35aHWcXrYkkx07z8iUEXuyOa2eQuG0z3L2eVHweIBJ4VkNv3BiuyWKcnhmqjUZ_KNGHCxVliHjga4%3D&sa=X&ved=0ahUKEwiRw4CkwdGEAxWYn2MGHRC0A3kQPQgD\n",
      "/advanced_search?hl=pt-BR&authuser=0\n",
      "/intl/pt-BR/ads/\n",
      "/services/\n",
      "/intl/pt-BR/about.html\n",
      "https://www.google.com.br/setprefdomain?prefdom=US&sig=K_pVuY_Iq2HS5E9zk0C7ri8zQek-U%3D\n",
      "/intl/pt-BR/policies/privacy/\n",
      "/intl/pt-BR/policies/terms/\n"
     ]
    }
   ],
   "source": [
    "soup = BeautifulSoup(response.content)\n",
    "links = soup.find_all('a')\n",
    "\n",
    "for i in links:\n",
    "    print(i.get('href'))"
   ]
  },
  {
   "cell_type": "code",
   "execution_count": 21,
   "metadata": {},
   "outputs": [
    {
     "name": "stdout",
     "output_type": "stream",
     "text": [
      "<Response [200]>\n"
     ]
    }
   ],
   "source": [
    "headers = {\n",
    "    'User-Agent': 'Mozilla/5.0 (Windows NT 10.0; Win64; x64) AppleWebKit/537.36 (KHTML, like Gecko) Chrome/58.0.3029.110 Safari/537.3'}\n",
    "\n",
    "r = requests.get('https://br.financas.yahoo.com/noticias/acoes-mais-negociadas/', headers=headers)\n",
    "print(r)"
   ]
  },
  {
   "cell_type": "code",
   "execution_count": 22,
   "metadata": {},
   "outputs": [
    {
     "name": "stdout",
     "output_type": "stream",
     "text": [
      "<Response [404]>\n"
     ]
    }
   ],
   "source": [
    "r = requests.get('https://br.financas.yahoo.com/noticias/acoes-mais-negociadas/')\n",
    "print(r)"
   ]
  },
  {
   "cell_type": "code",
   "execution_count": 23,
   "metadata": {},
   "outputs": [],
   "source": [
    "def extrair_informacoes_acoes(url):\n",
    "    \"\"\"\n",
    "    Extrai informações das ações mais negociadas do Yahoo Finanças.\n",
    "    \n",
    "    Args:\n",
    "    url (str): URL da página do Yahoo Finanças com as ações mais negociadas.\n",
    "    \n",
    "    Returns:\n",
    "    list: Uma lista de dicionários contendo as informações extraídas.\n",
    "    \"\"\"\n",
    "    # Define headers para simular uma requisição de um navegador web\n",
    "    headers = {\n",
    "        'User-Agent': 'Mozilla/5.0 (X11; Linux x86_64) AppleWebKit/537.36 (KHTML, like Gecko) Chrome/51.0.2704.103 Safari/537.36'\n",
    "    }\n",
    "\n",
    "    # Faz a requisição para o site\n",
    "    response = requests.get(url, headers=headers)\n",
    "    \n",
    "    # Verifica se a requisição foi bem sucedida\n",
    "    if response.status_code == 200:\n",
    "        # Parseia o conteúdo HTML da página\n",
    "        soup = BeautifulSoup(response.content, 'html.parser')\n",
    "        \n",
    "        # Encontra todos os elementos 'tbody' da página, que contém os dados\n",
    "        all_data = soup.find_all('tbody')\n",
    "        stock_data = []\n",
    "        \n",
    "        for stocks in all_data:\n",
    "            # Encontra todos os elementos 'tr', que correspondem às linhas da tabela\n",
    "            rows = stocks.find_all('tr')\n",
    "            for row in rows:\n",
    "                # Encontra todos os elementos 'td', que correspondem às células\n",
    "                cells = row.find_all('td')\n",
    "                if len(cells) > 7:  # Verifica se temos o número esperado de células\n",
    "                    # Extrai os dados de interesse\n",
    "                    data = {\n",
    "                        'stock': cells[0].get_text(),\n",
    "                        'company': cells[1].get_text(),\n",
    "                        'change': cells[3].get_text(),\n",
    "                        'perc_change': cells[4].get_text(),\n",
    "                        'vol_mean_3m': cells[6].get_text(),\n",
    "                        'market_cap': cells[7].get_text()\n",
    "                    }\n",
    "                    stock_data.append(data)\n",
    "        return stock_data\n",
    "    else:\n",
    "        print(f\"Erro {response.status_code}: Não foi possível acessar a página.\")\n",
    "        return None"
   ]
  },
  {
   "cell_type": "code",
   "execution_count": 24,
   "metadata": {},
   "outputs": [],
   "source": [
    "acoes_url = 'https://br.financas.yahoo.com/noticias/acoes-mais-negociadas/'\n",
    "acoes_mais_negociadas = extrair_informacoes_acoes(acoes_url)"
   ]
  },
  {
   "cell_type": "code",
   "execution_count": 25,
   "metadata": {},
   "outputs": [
    {
     "data": {
      "text/plain": [
       "[{'stock': 'ABEV3.SA',\n",
       "  'company': 'Ambev S.A.',\n",
       "  'change': '-0,87',\n",
       "  'perc_change': '-6,47%',\n",
       "  'vol_mean_3m': '21,233M',\n",
       "  'market_cap': '198,127B'},\n",
       " {'stock': 'CXSE3.SA',\n",
       "  'company': 'Caixa Seguridade Participações S.A.',\n",
       "  'change': '-0,03',\n",
       "  'perc_change': '-0,21%',\n",
       "  'vol_mean_3m': '4,011M',\n",
       "  'market_cap': '43,11B'},\n",
       " {'stock': 'MGLU3.SA',\n",
       "  'company': 'Magazine Luiza S.A.',\n",
       "  'change': '-0,0400',\n",
       "  'perc_change': '-1,84%',\n",
       "  'vol_mean_3m': '161,203M',\n",
       "  'market_cap': '15,239B'},\n",
       " {'stock': 'B3SA3.SA',\n",
       "  'company': 'B3 S.A. - Brasil, Bolsa, Balcão',\n",
       "  'change': '+0,25',\n",
       "  'perc_change': '+1,99%',\n",
       "  'vol_mean_3m': '34,725M',\n",
       "  'market_cap': '71,781B'},\n",
       " {'stock': 'BBDC4.SA',\n",
       "  'company': 'Banco Bradesco S.A.',\n",
       "  'change': '-0,21',\n",
       "  'perc_change': '-1,50%',\n",
       "  'vol_mean_3m': '47,59M',\n",
       "  'market_cap': '138,507B'},\n",
       " {'stock': 'PETR4.SA',\n",
       "  'company': 'Petróleo Brasileiro S.A. - Petrobras',\n",
       "  'change': '-0,29',\n",
       "  'perc_change': '-0,72%',\n",
       "  'vol_mean_3m': '36,452M',\n",
       "  'market_cap': '527,452B'},\n",
       " {'stock': 'FNAM11.SA',\n",
       "  'company': 'Fundo de Investimento Amazônia - FINAM',\n",
       "  'change': '0,0000',\n",
       "  'perc_change': '0,00%',\n",
       "  'vol_mean_3m': 'N/A',\n",
       "  'market_cap': 'N/A'},\n",
       " {'stock': 'HAPV3.SA',\n",
       "  'company': 'Hapvida Participações e Investimentos S.A.',\n",
       "  'change': '-0,1200',\n",
       "  'perc_change': '-3,17%',\n",
       "  'vol_mean_3m': '70,448M',\n",
       "  'market_cap': '27,507B'},\n",
       " {'stock': 'ITUB4.SA',\n",
       "  'company': 'Itaú Unibanco Holding S.A.',\n",
       "  'change': '-0,86',\n",
       "  'perc_change': '-2,47%',\n",
       "  'vol_mean_3m': '24,921M',\n",
       "  'market_cap': '309,335B'},\n",
       " {'stock': 'ENEV3.SA',\n",
       "  'company': 'Eneva S.A.',\n",
       "  'change': '+0,01',\n",
       "  'perc_change': '+0,08%',\n",
       "  'vol_mean_3m': '6,921M',\n",
       "  'market_cap': '20,31B'},\n",
       " {'stock': 'MRVE3.SA',\n",
       "  'company': 'MRV Engenharia e Participações S.A.',\n",
       "  'change': '-0,23',\n",
       "  'perc_change': '-2,93%',\n",
       "  'vol_mean_3m': '20,567M',\n",
       "  'market_cap': '4,289B'},\n",
       " {'stock': 'CIEL3.SA',\n",
       "  'company': 'Cielo S.A.',\n",
       "  'change': '-0,03',\n",
       "  'perc_change': '-0,56%',\n",
       "  'vol_mean_3m': '32,204M',\n",
       "  'market_cap': '14,433B'},\n",
       " {'stock': 'CPLE6.SA',\n",
       "  'company': 'Companhia Paranaense de Energia - COPEL',\n",
       "  'change': '-0,09',\n",
       "  'perc_change': '-0,87%',\n",
       "  'vol_mean_3m': '16,28M',\n",
       "  'market_cap': '29,145B'},\n",
       " {'stock': 'RAIZ4.SA',\n",
       "  'company': 'Raízen S.A.',\n",
       "  'change': '-0,1200',\n",
       "  'perc_change': '-3,28%',\n",
       "  'vol_mean_3m': '16,358M',\n",
       "  'market_cap': 'N/A'},\n",
       " {'stock': 'ITSA4.SA',\n",
       "  'company': 'Itaúsa S.A.',\n",
       "  'change': '-0,24',\n",
       "  'perc_change': '-2,28%',\n",
       "  'vol_mean_3m': '20,865M',\n",
       "  'market_cap': '106,449B'},\n",
       " {'stock': 'COGN3.SA',\n",
       "  'company': 'Cogna Educação S.A.',\n",
       "  'change': '-0,0100',\n",
       "  'perc_change': '-0,40%',\n",
       "  'vol_mean_3m': '27,188M',\n",
       "  'market_cap': '4,717B'},\n",
       " {'stock': 'CRIV4L.SA',\n",
       "  'company': '',\n",
       "  'change': '0,00',\n",
       "  'perc_change': '0,00%',\n",
       "  'vol_mean_3m': 'N/A',\n",
       "  'market_cap': 'N/A'},\n",
       " {'stock': 'CMIG4.SA',\n",
       "  'company': 'Companhia Energética de Minas Gerais - CEMIG',\n",
       "  'change': '+0,11',\n",
       "  'perc_change': '+0,93%',\n",
       "  'vol_mean_3m': '13,164M',\n",
       "  'market_cap': '28,724B'},\n",
       " {'stock': 'VALE3.SA',\n",
       "  'company': 'Vale S.A.',\n",
       "  'change': '+0,25',\n",
       "  'perc_change': '+0,37%',\n",
       "  'vol_mean_3m': '24,788M',\n",
       "  'market_cap': '287B'},\n",
       " {'stock': 'UGPA3.SA',\n",
       "  'company': 'Ultrapar Participações S.A.',\n",
       "  'change': '-1,18',\n",
       "  'perc_change': '-3,86%',\n",
       "  'vol_mean_3m': '5,249M',\n",
       "  'market_cap': '31,988B'},\n",
       " {'stock': 'MGLU1.SA',\n",
       "  'company': 'MAGAZ LUIZA DO    1,95',\n",
       "  'change': '0,0000',\n",
       "  'perc_change': '0,00%',\n",
       "  'vol_mean_3m': 'N/A',\n",
       "  'market_cap': 'N/A'},\n",
       " {'stock': 'PETR3.SA',\n",
       "  'company': 'Petróleo Brasileiro S.A. - Petrobras',\n",
       "  'change': '-0,38',\n",
       "  'perc_change': '-0,91%',\n",
       "  'vol_mean_3m': '9,948M',\n",
       "  'market_cap': '526,412B'},\n",
       " {'stock': 'PCAR3.SA',\n",
       "  'company': 'Companhia Brasileira De Distribuicao',\n",
       "  'change': '-0,3800',\n",
       "  'perc_change': '-8,62%',\n",
       "  'vol_mean_3m': '10,727M',\n",
       "  'market_cap': '1,088B'},\n",
       " {'stock': 'CSAN3.SA',\n",
       "  'company': 'Cosan S.A.',\n",
       "  'change': '-0,52',\n",
       "  'perc_change': '-2,97%',\n",
       "  'vol_mean_3m': '6,347M',\n",
       "  'market_cap': '31,74B'},\n",
       " {'stock': 'OIBR3.SA',\n",
       "  'company': 'Oi S.A.',\n",
       "  'change': '+0,0100',\n",
       "  'perc_change': '+0,97%',\n",
       "  'vol_mean_3m': '14,308M',\n",
       "  'market_cap': '638,123M'}]"
      ]
     },
     "execution_count": 25,
     "metadata": {},
     "output_type": "execute_result"
    }
   ],
   "source": [
    "acoes_mais_negociadas"
   ]
  },
  {
   "cell_type": "code",
   "execution_count": 26,
   "metadata": {},
   "outputs": [
    {
     "data": {
      "text/html": [
       "<div>\n",
       "<style scoped>\n",
       "    .dataframe tbody tr th:only-of-type {\n",
       "        vertical-align: middle;\n",
       "    }\n",
       "\n",
       "    .dataframe tbody tr th {\n",
       "        vertical-align: top;\n",
       "    }\n",
       "\n",
       "    .dataframe thead th {\n",
       "        text-align: right;\n",
       "    }\n",
       "</style>\n",
       "<table border=\"1\" class=\"dataframe\">\n",
       "  <thead>\n",
       "    <tr style=\"text-align: right;\">\n",
       "      <th></th>\n",
       "      <th>stock</th>\n",
       "      <th>company</th>\n",
       "      <th>change</th>\n",
       "      <th>perc_change</th>\n",
       "      <th>vol_mean_3m</th>\n",
       "      <th>market_cap</th>\n",
       "    </tr>\n",
       "  </thead>\n",
       "  <tbody>\n",
       "    <tr>\n",
       "      <th>0</th>\n",
       "      <td>ABEV3.SA</td>\n",
       "      <td>Ambev S.A.</td>\n",
       "      <td>-0,87</td>\n",
       "      <td>-6,47%</td>\n",
       "      <td>21,233M</td>\n",
       "      <td>198,127B</td>\n",
       "    </tr>\n",
       "    <tr>\n",
       "      <th>1</th>\n",
       "      <td>CXSE3.SA</td>\n",
       "      <td>Caixa Seguridade Participações S.A.</td>\n",
       "      <td>-0,03</td>\n",
       "      <td>-0,21%</td>\n",
       "      <td>4,011M</td>\n",
       "      <td>43,11B</td>\n",
       "    </tr>\n",
       "    <tr>\n",
       "      <th>2</th>\n",
       "      <td>MGLU3.SA</td>\n",
       "      <td>Magazine Luiza S.A.</td>\n",
       "      <td>-0,0400</td>\n",
       "      <td>-1,84%</td>\n",
       "      <td>161,203M</td>\n",
       "      <td>15,239B</td>\n",
       "    </tr>\n",
       "    <tr>\n",
       "      <th>3</th>\n",
       "      <td>B3SA3.SA</td>\n",
       "      <td>B3 S.A. - Brasil, Bolsa, Balcão</td>\n",
       "      <td>+0,25</td>\n",
       "      <td>+1,99%</td>\n",
       "      <td>34,725M</td>\n",
       "      <td>71,781B</td>\n",
       "    </tr>\n",
       "    <tr>\n",
       "      <th>4</th>\n",
       "      <td>BBDC4.SA</td>\n",
       "      <td>Banco Bradesco S.A.</td>\n",
       "      <td>-0,21</td>\n",
       "      <td>-1,50%</td>\n",
       "      <td>47,59M</td>\n",
       "      <td>138,507B</td>\n",
       "    </tr>\n",
       "    <tr>\n",
       "      <th>5</th>\n",
       "      <td>PETR4.SA</td>\n",
       "      <td>Petróleo Brasileiro S.A. - Petrobras</td>\n",
       "      <td>-0,29</td>\n",
       "      <td>-0,72%</td>\n",
       "      <td>36,452M</td>\n",
       "      <td>527,452B</td>\n",
       "    </tr>\n",
       "    <tr>\n",
       "      <th>6</th>\n",
       "      <td>FNAM11.SA</td>\n",
       "      <td>Fundo de Investimento Amazônia - FINAM</td>\n",
       "      <td>0,0000</td>\n",
       "      <td>0,00%</td>\n",
       "      <td>N/A</td>\n",
       "      <td>N/A</td>\n",
       "    </tr>\n",
       "    <tr>\n",
       "      <th>7</th>\n",
       "      <td>HAPV3.SA</td>\n",
       "      <td>Hapvida Participações e Investimentos S.A.</td>\n",
       "      <td>-0,1200</td>\n",
       "      <td>-3,17%</td>\n",
       "      <td>70,448M</td>\n",
       "      <td>27,507B</td>\n",
       "    </tr>\n",
       "    <tr>\n",
       "      <th>8</th>\n",
       "      <td>ITUB4.SA</td>\n",
       "      <td>Itaú Unibanco Holding S.A.</td>\n",
       "      <td>-0,86</td>\n",
       "      <td>-2,47%</td>\n",
       "      <td>24,921M</td>\n",
       "      <td>309,335B</td>\n",
       "    </tr>\n",
       "    <tr>\n",
       "      <th>9</th>\n",
       "      <td>ENEV3.SA</td>\n",
       "      <td>Eneva S.A.</td>\n",
       "      <td>+0,01</td>\n",
       "      <td>+0,08%</td>\n",
       "      <td>6,921M</td>\n",
       "      <td>20,31B</td>\n",
       "    </tr>\n",
       "    <tr>\n",
       "      <th>10</th>\n",
       "      <td>MRVE3.SA</td>\n",
       "      <td>MRV Engenharia e Participações S.A.</td>\n",
       "      <td>-0,23</td>\n",
       "      <td>-2,93%</td>\n",
       "      <td>20,567M</td>\n",
       "      <td>4,289B</td>\n",
       "    </tr>\n",
       "    <tr>\n",
       "      <th>11</th>\n",
       "      <td>CIEL3.SA</td>\n",
       "      <td>Cielo S.A.</td>\n",
       "      <td>-0,03</td>\n",
       "      <td>-0,56%</td>\n",
       "      <td>32,204M</td>\n",
       "      <td>14,433B</td>\n",
       "    </tr>\n",
       "    <tr>\n",
       "      <th>12</th>\n",
       "      <td>CPLE6.SA</td>\n",
       "      <td>Companhia Paranaense de Energia - COPEL</td>\n",
       "      <td>-0,09</td>\n",
       "      <td>-0,87%</td>\n",
       "      <td>16,28M</td>\n",
       "      <td>29,145B</td>\n",
       "    </tr>\n",
       "    <tr>\n",
       "      <th>13</th>\n",
       "      <td>RAIZ4.SA</td>\n",
       "      <td>Raízen S.A.</td>\n",
       "      <td>-0,1200</td>\n",
       "      <td>-3,28%</td>\n",
       "      <td>16,358M</td>\n",
       "      <td>N/A</td>\n",
       "    </tr>\n",
       "    <tr>\n",
       "      <th>14</th>\n",
       "      <td>ITSA4.SA</td>\n",
       "      <td>Itaúsa S.A.</td>\n",
       "      <td>-0,24</td>\n",
       "      <td>-2,28%</td>\n",
       "      <td>20,865M</td>\n",
       "      <td>106,449B</td>\n",
       "    </tr>\n",
       "    <tr>\n",
       "      <th>15</th>\n",
       "      <td>COGN3.SA</td>\n",
       "      <td>Cogna Educação S.A.</td>\n",
       "      <td>-0,0100</td>\n",
       "      <td>-0,40%</td>\n",
       "      <td>27,188M</td>\n",
       "      <td>4,717B</td>\n",
       "    </tr>\n",
       "    <tr>\n",
       "      <th>16</th>\n",
       "      <td>CRIV4L.SA</td>\n",
       "      <td></td>\n",
       "      <td>0,00</td>\n",
       "      <td>0,00%</td>\n",
       "      <td>N/A</td>\n",
       "      <td>N/A</td>\n",
       "    </tr>\n",
       "    <tr>\n",
       "      <th>17</th>\n",
       "      <td>CMIG4.SA</td>\n",
       "      <td>Companhia Energética de Minas Gerais - CEMIG</td>\n",
       "      <td>+0,11</td>\n",
       "      <td>+0,93%</td>\n",
       "      <td>13,164M</td>\n",
       "      <td>28,724B</td>\n",
       "    </tr>\n",
       "    <tr>\n",
       "      <th>18</th>\n",
       "      <td>VALE3.SA</td>\n",
       "      <td>Vale S.A.</td>\n",
       "      <td>+0,25</td>\n",
       "      <td>+0,37%</td>\n",
       "      <td>24,788M</td>\n",
       "      <td>287B</td>\n",
       "    </tr>\n",
       "    <tr>\n",
       "      <th>19</th>\n",
       "      <td>UGPA3.SA</td>\n",
       "      <td>Ultrapar Participações S.A.</td>\n",
       "      <td>-1,18</td>\n",
       "      <td>-3,86%</td>\n",
       "      <td>5,249M</td>\n",
       "      <td>31,988B</td>\n",
       "    </tr>\n",
       "    <tr>\n",
       "      <th>20</th>\n",
       "      <td>MGLU1.SA</td>\n",
       "      <td>MAGAZ LUIZA DO    1,95</td>\n",
       "      <td>0,0000</td>\n",
       "      <td>0,00%</td>\n",
       "      <td>N/A</td>\n",
       "      <td>N/A</td>\n",
       "    </tr>\n",
       "    <tr>\n",
       "      <th>21</th>\n",
       "      <td>PETR3.SA</td>\n",
       "      <td>Petróleo Brasileiro S.A. - Petrobras</td>\n",
       "      <td>-0,38</td>\n",
       "      <td>-0,91%</td>\n",
       "      <td>9,948M</td>\n",
       "      <td>526,412B</td>\n",
       "    </tr>\n",
       "    <tr>\n",
       "      <th>22</th>\n",
       "      <td>PCAR3.SA</td>\n",
       "      <td>Companhia Brasileira De Distribuicao</td>\n",
       "      <td>-0,3800</td>\n",
       "      <td>-8,62%</td>\n",
       "      <td>10,727M</td>\n",
       "      <td>1,088B</td>\n",
       "    </tr>\n",
       "    <tr>\n",
       "      <th>23</th>\n",
       "      <td>CSAN3.SA</td>\n",
       "      <td>Cosan S.A.</td>\n",
       "      <td>-0,52</td>\n",
       "      <td>-2,97%</td>\n",
       "      <td>6,347M</td>\n",
       "      <td>31,74B</td>\n",
       "    </tr>\n",
       "    <tr>\n",
       "      <th>24</th>\n",
       "      <td>OIBR3.SA</td>\n",
       "      <td>Oi S.A.</td>\n",
       "      <td>+0,0100</td>\n",
       "      <td>+0,97%</td>\n",
       "      <td>14,308M</td>\n",
       "      <td>638,123M</td>\n",
       "    </tr>\n",
       "  </tbody>\n",
       "</table>\n",
       "</div>"
      ],
      "text/plain": [
       "        stock                                       company   change  \\\n",
       "0    ABEV3.SA                                    Ambev S.A.    -0,87   \n",
       "1    CXSE3.SA           Caixa Seguridade Participações S.A.    -0,03   \n",
       "2    MGLU3.SA                           Magazine Luiza S.A.  -0,0400   \n",
       "3    B3SA3.SA               B3 S.A. - Brasil, Bolsa, Balcão    +0,25   \n",
       "4    BBDC4.SA                           Banco Bradesco S.A.    -0,21   \n",
       "5    PETR4.SA          Petróleo Brasileiro S.A. - Petrobras    -0,29   \n",
       "6   FNAM11.SA        Fundo de Investimento Amazônia - FINAM   0,0000   \n",
       "7    HAPV3.SA    Hapvida Participações e Investimentos S.A.  -0,1200   \n",
       "8    ITUB4.SA                    Itaú Unibanco Holding S.A.    -0,86   \n",
       "9    ENEV3.SA                                    Eneva S.A.    +0,01   \n",
       "10   MRVE3.SA           MRV Engenharia e Participações S.A.    -0,23   \n",
       "11   CIEL3.SA                                    Cielo S.A.    -0,03   \n",
       "12   CPLE6.SA       Companhia Paranaense de Energia - COPEL    -0,09   \n",
       "13   RAIZ4.SA                                   Raízen S.A.  -0,1200   \n",
       "14   ITSA4.SA                                   Itaúsa S.A.    -0,24   \n",
       "15   COGN3.SA                           Cogna Educação S.A.  -0,0100   \n",
       "16  CRIV4L.SA                                                   0,00   \n",
       "17   CMIG4.SA  Companhia Energética de Minas Gerais - CEMIG    +0,11   \n",
       "18   VALE3.SA                                     Vale S.A.    +0,25   \n",
       "19   UGPA3.SA                   Ultrapar Participações S.A.    -1,18   \n",
       "20   MGLU1.SA                        MAGAZ LUIZA DO    1,95   0,0000   \n",
       "21   PETR3.SA          Petróleo Brasileiro S.A. - Petrobras    -0,38   \n",
       "22   PCAR3.SA          Companhia Brasileira De Distribuicao  -0,3800   \n",
       "23   CSAN3.SA                                    Cosan S.A.    -0,52   \n",
       "24   OIBR3.SA                                       Oi S.A.  +0,0100   \n",
       "\n",
       "   perc_change vol_mean_3m market_cap  \n",
       "0       -6,47%     21,233M   198,127B  \n",
       "1       -0,21%      4,011M     43,11B  \n",
       "2       -1,84%    161,203M    15,239B  \n",
       "3       +1,99%     34,725M    71,781B  \n",
       "4       -1,50%      47,59M   138,507B  \n",
       "5       -0,72%     36,452M   527,452B  \n",
       "6        0,00%         N/A        N/A  \n",
       "7       -3,17%     70,448M    27,507B  \n",
       "8       -2,47%     24,921M   309,335B  \n",
       "9       +0,08%      6,921M     20,31B  \n",
       "10      -2,93%     20,567M     4,289B  \n",
       "11      -0,56%     32,204M    14,433B  \n",
       "12      -0,87%      16,28M    29,145B  \n",
       "13      -3,28%     16,358M        N/A  \n",
       "14      -2,28%     20,865M   106,449B  \n",
       "15      -0,40%     27,188M     4,717B  \n",
       "16       0,00%         N/A        N/A  \n",
       "17      +0,93%     13,164M    28,724B  \n",
       "18      +0,37%     24,788M       287B  \n",
       "19      -3,86%      5,249M    31,988B  \n",
       "20       0,00%         N/A        N/A  \n",
       "21      -0,91%      9,948M   526,412B  \n",
       "22      -8,62%     10,727M     1,088B  \n",
       "23      -2,97%      6,347M     31,74B  \n",
       "24      +0,97%     14,308M   638,123M  "
      ]
     },
     "execution_count": 26,
     "metadata": {},
     "output_type": "execute_result"
    }
   ],
   "source": [
    "df_acoes = pd.DataFrame(acoes_mais_negociadas)\n",
    "df_acoes"
   ]
  },
  {
   "cell_type": "code",
   "execution_count": 27,
   "metadata": {},
   "outputs": [],
   "source": [
    "def verifica_email(email: str)-> bool:\n",
    "    #pattern = r'^\\w+@\\w+\\.\\w+$|^\\w+@\\w+\\.\\w+\\.\\w+$'\n",
    "    pattern = r'^[\\w.-]+@[\\w-]+\\.[\\w.-]+$'\n",
    "    resp = bool(re.match(pattern, email))\n",
    "    return resp"
   ]
  },
  {
   "cell_type": "code",
   "execution_count": 28,
   "metadata": {},
   "outputs": [
    {
     "data": {
      "text/plain": [
       "['25/05/2023', '26/05/2023']"
      ]
     },
     "execution_count": 28,
     "metadata": {},
     "output_type": "execute_result"
    }
   ],
   "source": [
    "texto = \"As datas de hoje e amanhã são 25/05/2023 e 26/05/2023, respectivamente.\"\n",
    "\n",
    "def encontra_data(string):\n",
    "    #pattern = r'\\d{2}/\\d{2}/\\d{4}'\n",
    "    pattern = r'\\d{2}/\\d{2}/\\d{4}'\n",
    "    resp = re.findall(pattern, string)\n",
    "    return resp\n",
    "\n",
    "texto = \"As datas de hoje e amanhã são 25/05/2023 e 26/05/2023, respectivamente.\"\n",
    "encontra_data(texto)"
   ]
  },
  {
   "cell_type": "code",
   "execution_count": 29,
   "metadata": {},
   "outputs": [],
   "source": [
    "def contar_imagens(html_content):\n",
    "     # Realiza a requisição GET para a URL fornecida\n",
    "    response = requests.get(url)\n",
    "    \n",
    "    # Verifica se a requisição foi bem-sucedida\n",
    "    if response.status_code == 200:\n",
    "        # Analisa o HTML da página usando BeautifulSoup\n",
    "        soup = BeautifulSoup(response.content, 'html.parser')\n",
    "        \n",
    "        # Encontra todos os elementos de imagem na página\n",
    "        imagens = soup.find_all('img')\n",
    "        \n",
    "        # Retorna a quantidade de imagens encontradas\n",
    "        return len(imagens)\n",
    "    else:\n",
    "        # Retorna None se a requisição não foi bem-sucedida\n",
    "        return None"
   ]
  },
  {
   "cell_type": "code",
   "execution_count": 30,
   "metadata": {},
   "outputs": [
    {
     "data": {
      "text/plain": [
       "2"
      ]
     },
     "execution_count": 30,
     "metadata": {},
     "output_type": "execute_result"
    }
   ],
   "source": [
    "contar_imagens(url)"
   ]
  },
  {
   "cell_type": "code",
   "execution_count": null,
   "metadata": {},
   "outputs": [],
   "source": []
  }
 ],
 "metadata": {
  "kernelspec": {
   "display_name": "Python 3",
   "language": "python",
   "name": "python3"
  },
  "language_info": {
   "codemirror_mode": {
    "name": "ipython",
    "version": 3
   },
   "file_extension": ".py",
   "mimetype": "text/x-python",
   "name": "python",
   "nbconvert_exporter": "python",
   "pygments_lexer": "ipython3",
   "version": "3.12.1"
  }
 },
 "nbformat": 4,
 "nbformat_minor": 2
}
